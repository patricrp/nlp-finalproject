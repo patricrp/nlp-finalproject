{
 "cells": [
  {
   "cell_type": "code",
   "execution_count": 25,
   "metadata": {},
   "outputs": [],
   "source": [
    "import pandas as pd\n",
    "import graphext_datatraining as tr\n",
    "import graphext_enspacymodel as eng\n",
    "import spacy\n",
    "import pickle\n",
    "import matplotlib.pyplot as plt\n",
    "import seaborn as sns\n",
    "import pickle\n",
    "import graphs as gp\n",
    "import createpdf as cpdf\n",
    "import re"
   ]
  },
  {
   "cell_type": "code",
   "execution_count": 29,
   "metadata": {},
   "outputs": [
    {
     "data": {
      "text/html": [
       "<div>\n",
       "<style scoped>\n",
       "    .dataframe tbody tr th:only-of-type {\n",
       "        vertical-align: middle;\n",
       "    }\n",
       "\n",
       "    .dataframe tbody tr th {\n",
       "        vertical-align: top;\n",
       "    }\n",
       "\n",
       "    .dataframe thead th {\n",
       "        text-align: right;\n",
       "    }\n",
       "</style>\n",
       "<table border=\"1\" class=\"dataframe\">\n",
       "  <thead>\n",
       "    <tr style=\"text-align: right;\">\n",
       "      <th></th>\n",
       "      <th>Unnamed: 0</th>\n",
       "      <th>id</th>\n",
       "      <th>text</th>\n",
       "      <th>category</th>\n",
       "    </tr>\n",
       "  </thead>\n",
       "  <tbody>\n",
       "    <tr>\n",
       "      <th>0</th>\n",
       "      <td>0</td>\n",
       "      <td>1180633752885743616</td>\n",
       "      <td>People at the cinema thinking they got the #Jo...</td>\n",
       "      <td>PLOT</td>\n",
       "    </tr>\n",
       "    <tr>\n",
       "      <th>1</th>\n",
       "      <td>1</td>\n",
       "      <td>1180633751744913408</td>\n",
       "      <td>I have a new favorite joker @jokermovie #Joker...</td>\n",
       "      <td>NaN</td>\n",
       "    </tr>\n",
       "    <tr>\n",
       "      <th>2</th>\n",
       "      <td>2</td>\n",
       "      <td>1180633723932483584</td>\n",
       "      <td>⭐⭐⭐⭐⭐ Performance, what a movie #JokerMovie pi...</td>\n",
       "      <td>NaN</td>\n",
       "    </tr>\n",
       "    <tr>\n",
       "      <th>3</th>\n",
       "      <td>3</td>\n",
       "      <td>1180633642198077441</td>\n",
       "      <td>#JokerMovie was absolutely amazing and ended w...</td>\n",
       "      <td>HYPE</td>\n",
       "    </tr>\n",
       "    <tr>\n",
       "      <th>4</th>\n",
       "      <td>4</td>\n",
       "      <td>1180633577693880321</td>\n",
       "      <td>I just want to give both Arthur Fleck and Gary...</td>\n",
       "      <td>CHARACTERS</td>\n",
       "    </tr>\n",
       "  </tbody>\n",
       "</table>\n",
       "</div>"
      ],
      "text/plain": [
       "   Unnamed: 0                   id  \\\n",
       "0           0  1180633752885743616   \n",
       "1           1  1180633751744913408   \n",
       "2           2  1180633723932483584   \n",
       "3           3  1180633642198077441   \n",
       "4           4  1180633577693880321   \n",
       "\n",
       "                                                text    category  \n",
       "0  People at the cinema thinking they got the #Jo...        PLOT  \n",
       "1  I have a new favorite joker @jokermovie #Joker...         NaN  \n",
       "2  ⭐⭐⭐⭐⭐ Performance, what a movie #JokerMovie pi...         NaN  \n",
       "3  #JokerMovie was absolutely amazing and ended w...        HYPE  \n",
       "4  I just want to give both Arthur Fleck and Gary...  CHARACTERS  "
      ]
     },
     "execution_count": 29,
     "metadata": {},
     "output_type": "execute_result"
    }
   ],
   "source": [
    "df = pd.read_csv('../output/graphextpredicted.csv')\n",
    "df.head()"
   ]
  },
  {
   "cell_type": "code",
   "execution_count": null,
   "metadata": {},
   "outputs": [],
   "source": []
  },
  {
   "cell_type": "code",
   "execution_count": null,
   "metadata": {},
   "outputs": [],
   "source": []
  }
 ],
 "metadata": {
  "kernelspec": {
   "display_name": "Python3.8",
   "language": "python",
   "name": "python3.8"
  },
  "language_info": {
   "codemirror_mode": {
    "name": "ipython",
    "version": 3
   },
   "file_extension": ".py",
   "mimetype": "text/x-python",
   "name": "python",
   "nbconvert_exporter": "python",
   "pygments_lexer": "ipython3",
   "version": "3.8.0"
  }
 },
 "nbformat": 4,
 "nbformat_minor": 4
}
