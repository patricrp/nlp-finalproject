{
 "cells": [
  {
   "cell_type": "code",
   "execution_count": 1,
   "metadata": {},
   "outputs": [],
   "source": [
    "import pandas as pd\n",
    "import numpy as np\n",
    "import re"
   ]
  },
  {
   "cell_type": "markdown",
   "metadata": {},
   "source": [
    "# Classify all DataFrame with several categories without spaCy model"
   ]
  },
  {
   "cell_type": "code",
   "execution_count": 2,
   "metadata": {},
   "outputs": [],
   "source": [
    "#Dictionary\n",
    "\n",
    "categories = {'CHARACTERS': ['character','characters','Arthur Fleck', 'Arthur', 'Murray Franklin','Sophie Dumond','Penny Fleck'],\n",
    " 'TALENT': ['actor','actress','actors','talent','director','Joaquin Phoenix', 'Phoenix', '#JoaquinPhoenix','Robert De Niro','Zazie Beetz','Frances Conroy','Todd Philips'],\n",
    " 'PLOT': ['plot', 'frame', 'scene', 'scenes', 'story', 'stories'],\n",
    " 'TICKETS': ['ticket', 'tickets', 'presale'],\n",
    " 'SOUNDTRACK': ['music', 'song'],\n",
    " 'SPECIAL EFFECTS': ['FX', 'visual effects', 'graphics', 'postproduction'],\n",
    " 'COSTUME DESIGN': ['costum', 'costumes', 'costume designer'],\n",
    " 'HYPE': ['hype','hyyyype','amazing','awesome','desire','desires','premiere','Cant wait'],\n",
    " 'BOX OFFICE': ['box office'],\n",
    " 'REVIEWS': ['review', 'reviews'],\n",
    " 'TRAILER': ['trailer', 'trailers']}"
   ]
  },
  {
   "cell_type": "code",
   "execution_count": 3,
   "metadata": {},
   "outputs": [
    {
     "data": {
      "text/html": [
       "<div>\n",
       "<style scoped>\n",
       "    .dataframe tbody tr th:only-of-type {\n",
       "        vertical-align: middle;\n",
       "    }\n",
       "\n",
       "    .dataframe tbody tr th {\n",
       "        vertical-align: top;\n",
       "    }\n",
       "\n",
       "    .dataframe thead th {\n",
       "        text-align: right;\n",
       "    }\n",
       "</style>\n",
       "<table border=\"1\" class=\"dataframe\">\n",
       "  <thead>\n",
       "    <tr style=\"text-align: right;\">\n",
       "      <th></th>\n",
       "      <th>id</th>\n",
       "      <th>text</th>\n",
       "    </tr>\n",
       "  </thead>\n",
       "  <tbody>\n",
       "    <tr>\n",
       "      <th>0</th>\n",
       "      <td>1180633752885743616</td>\n",
       "      <td>People at the cinema thinking they got the #Jo...</td>\n",
       "    </tr>\n",
       "    <tr>\n",
       "      <th>1</th>\n",
       "      <td>1180633751744913408</td>\n",
       "      <td>I have a new favorite joker @jokermovie #Joker...</td>\n",
       "    </tr>\n",
       "    <tr>\n",
       "      <th>2</th>\n",
       "      <td>1180633723932483584</td>\n",
       "      <td>⭐⭐⭐⭐⭐ Performance, what a movie #JokerMovie pi...</td>\n",
       "    </tr>\n",
       "    <tr>\n",
       "      <th>3</th>\n",
       "      <td>1180633642198077441</td>\n",
       "      <td>#JokerMovie was absolutely amazing and ended w...</td>\n",
       "    </tr>\n",
       "    <tr>\n",
       "      <th>4</th>\n",
       "      <td>1180633577693880321</td>\n",
       "      <td>I just want to give both Arthur Fleck and Gary...</td>\n",
       "    </tr>\n",
       "  </tbody>\n",
       "</table>\n",
       "</div>"
      ],
      "text/plain": [
       "                    id                                               text\n",
       "0  1180633752885743616  People at the cinema thinking they got the #Jo...\n",
       "1  1180633751744913408  I have a new favorite joker @jokermovie #Joker...\n",
       "2  1180633723932483584  ⭐⭐⭐⭐⭐ Performance, what a movie #JokerMovie pi...\n",
       "3  1180633642198077441  #JokerMovie was absolutely amazing and ended w...\n",
       "4  1180633577693880321  I just want to give both Arthur Fleck and Gary..."
      ]
     },
     "execution_count": 3,
     "metadata": {},
     "output_type": "execute_result"
    }
   ],
   "source": [
    "#Import csv and reduce to id and text series\n",
    "df = pd.read_csv('../input/#jokermovie.csv')\n",
    "dfText = df[['id', 'text']]\n",
    "dfText.head()"
   ]
  },
  {
   "cell_type": "code",
   "execution_count": 4,
   "metadata": {},
   "outputs": [],
   "source": [
    "#Reverse dictionary to get one pair key,value\n",
    "def invertDict(dictionary):\n",
    "    new_categories = dict()\n",
    "\n",
    "    for category, lista in categories.items():\n",
    "        for word in lista:\n",
    "            new_categories.update({word:category})\n",
    "        \n",
    "    return new_categories"
   ]
  },
  {
   "cell_type": "code",
   "execution_count": 5,
   "metadata": {},
   "outputs": [
    {
     "data": {
      "text/plain": [
       "{'character': 'CHARACTERS',\n",
       " 'characters': 'CHARACTERS',\n",
       " 'Arthur Fleck': 'CHARACTERS',\n",
       " 'Arthur': 'CHARACTERS',\n",
       " 'Murray Franklin': 'CHARACTERS',\n",
       " 'Sophie Dumond': 'CHARACTERS',\n",
       " 'Penny Fleck': 'CHARACTERS',\n",
       " 'actor': 'TALENT',\n",
       " 'actress': 'TALENT',\n",
       " 'actors': 'TALENT',\n",
       " 'talent': 'TALENT',\n",
       " 'director': 'TALENT',\n",
       " 'Joaquin Phoenix': 'TALENT',\n",
       " 'Phoenix': 'TALENT',\n",
       " '#JoaquinPhoenix': 'TALENT',\n",
       " 'Robert De Niro': 'TALENT',\n",
       " 'Zazie Beetz': 'TALENT',\n",
       " 'Frances Conroy': 'TALENT',\n",
       " 'Todd Philips': 'TALENT',\n",
       " 'plot': 'PLOT',\n",
       " 'frame': 'PLOT',\n",
       " 'scene': 'PLOT',\n",
       " 'scenes': 'PLOT',\n",
       " 'story': 'PLOT',\n",
       " 'stories': 'PLOT',\n",
       " 'ticket': 'TICKETS',\n",
       " 'tickets': 'TICKETS',\n",
       " 'presale': 'TICKETS',\n",
       " 'music': 'SOUNDTRACK',\n",
       " 'song': 'SOUNDTRACK',\n",
       " 'FX': 'SPECIAL EFFECTS',\n",
       " 'visual effects': 'SPECIAL EFFECTS',\n",
       " 'graphics': 'SPECIAL EFFECTS',\n",
       " 'postproduction': 'SPECIAL EFFECTS',\n",
       " 'costum': 'COSTUME DESIGN',\n",
       " 'costumes': 'COSTUME DESIGN',\n",
       " 'costume designer': 'COSTUME DESIGN',\n",
       " 'hype': 'HYPE',\n",
       " 'hyyyype': 'HYPE',\n",
       " 'amazing': 'HYPE',\n",
       " 'awesome': 'HYPE',\n",
       " 'desire': 'HYPE',\n",
       " 'desires': 'HYPE',\n",
       " 'premiere': 'HYPE',\n",
       " 'Cant wait': 'HYPE',\n",
       " 'box office': 'BOX OFFICE',\n",
       " 'review': 'REVIEWS',\n",
       " 'reviews': 'REVIEWS',\n",
       " 'trailer': 'TRAILER',\n",
       " 'trailers': 'TRAILER'}"
      ]
     },
     "execution_count": 5,
     "metadata": {},
     "output_type": "execute_result"
    }
   ],
   "source": [
    "newdictionary = invertDict(categories)\n",
    "newdictionary"
   ]
  },
  {
   "cell_type": "code",
   "execution_count": 6,
   "metadata": {},
   "outputs": [],
   "source": [
    "#Function to match words in publication with reversed dictionary key\n",
    "def findCategory(publication, reverseddict):\n",
    "    sentence = re.findall('\\w+', publication)\n",
    "\n",
    "    category = []\n",
    "    for word in sentence:\n",
    "        topic = reverseddict.get(word, None)\n",
    "        if topic:\n",
    "            category.append(topic)\n",
    "\n",
    "    return category"
   ]
  },
  {
   "cell_type": "code",
   "execution_count": 7,
   "metadata": {},
   "outputs": [
    {
     "data": {
      "text/plain": [
       "['TALENT', 'HYPE', 'TALENT', 'PLOT']"
      ]
     },
     "execution_count": 7,
     "metadata": {},
     "output_type": "execute_result"
    }
   ],
   "source": [
    "text = 'I should add, I liked John Wick and Im pretty sure Ill like the #JokerMovie too. Joaquin Phoenix is an amazing actor and I find origin stories very interesting. \\n\\nPlus, I dont think movies or video games are responsible for mass murders or increased violence...'\n",
    "findCategory(text, newdictionary)"
   ]
  },
  {
   "cell_type": "code",
   "execution_count": 8,
   "metadata": {},
   "outputs": [
    {
     "name": "stderr",
     "output_type": "stream",
     "text": [
      "<ipython-input-8-616d667023d6>:1: SettingWithCopyWarning: \n",
      "A value is trying to be set on a copy of a slice from a DataFrame.\n",
      "Try using .loc[row_indexer,col_indexer] = value instead\n",
      "\n",
      "See the caveats in the documentation: http://pandas.pydata.org/pandas-docs/stable/user_guide/indexing.html#returning-a-view-versus-a-copy\n",
      "  dfText['category'] = dfText['text'].apply(lambda x: findCategory(x, newdictionary))\n"
     ]
    }
   ],
   "source": [
    "dfText['category'] = dfText['text'].apply(lambda x: findCategory(x, newdictionary))"
   ]
  },
  {
   "cell_type": "code",
   "execution_count": 9,
   "metadata": {},
   "outputs": [
    {
     "data": {
      "text/plain": [
       "id                                        1177687629028044800\n",
       "text        Landmark Theatres issues ban on all costumes a...\n",
       "category                     [COSTUME DESIGN, COSTUME DESIGN]\n",
       "Name: 1000, dtype: object"
      ]
     },
     "execution_count": 9,
     "metadata": {},
     "output_type": "execute_result"
    }
   ],
   "source": [
    "#Verifying more than one category \n",
    "example = dfText.iloc[1000]\n",
    "example"
   ]
  },
  {
   "cell_type": "code",
   "execution_count": 10,
   "metadata": {},
   "outputs": [
    {
     "data": {
      "text/plain": [
       "['COSTUME DESIGN']"
      ]
     },
     "execution_count": 10,
     "metadata": {},
     "output_type": "execute_result"
    }
   ],
   "source": [
    "#Set Category serie\n",
    "category = [uniq for ind, uniq in enumerate(example['category']) if uniq not in example['category'][:ind]]\n",
    "category"
   ]
  },
  {
   "cell_type": "code",
   "execution_count": 11,
   "metadata": {},
   "outputs": [],
   "source": [
    "#Function to set category\n",
    "def setCategory(serie):\n",
    "    return [uniq for ind, uniq in enumerate(serie['category']) if uniq not in serie['category'][:ind]]"
   ]
  },
  {
   "cell_type": "code",
   "execution_count": 12,
   "metadata": {},
   "outputs": [
    {
     "ename": "TypeError",
     "evalue": "list indices must be integers or slices, not str",
     "output_type": "error",
     "traceback": [
      "\u001b[0;31m---------------------------------------------------------------------------\u001b[0m",
      "\u001b[0;31mTypeError\u001b[0m                                 Traceback (most recent call last)",
      "\u001b[0;32m<ipython-input-12-435d91d68454>\u001b[0m in \u001b[0;36m<module>\u001b[0;34m\u001b[0m\n\u001b[0;32m----> 1\u001b[0;31m \u001b[0mdfText\u001b[0m\u001b[0;34m[\u001b[0m\u001b[0;34m'categoryset'\u001b[0m\u001b[0;34m]\u001b[0m \u001b[0;34m=\u001b[0m \u001b[0mdfText\u001b[0m\u001b[0;34m[\u001b[0m\u001b[0;34m'category'\u001b[0m\u001b[0;34m]\u001b[0m\u001b[0;34m.\u001b[0m\u001b[0mapply\u001b[0m\u001b[0;34m(\u001b[0m\u001b[0msetCategory\u001b[0m\u001b[0;34m)\u001b[0m\u001b[0;34m\u001b[0m\u001b[0;34m\u001b[0m\u001b[0m\n\u001b[0m",
      "\u001b[0;32m/Library/Frameworks/Python.framework/Versions/3.8/lib/python3.8/site-packages/pandas/core/series.py\u001b[0m in \u001b[0;36mapply\u001b[0;34m(self, func, convert_dtype, args, **kwds)\u001b[0m\n\u001b[1;32m   4043\u001b[0m             \u001b[0;32melse\u001b[0m\u001b[0;34m:\u001b[0m\u001b[0;34m\u001b[0m\u001b[0;34m\u001b[0m\u001b[0m\n\u001b[1;32m   4044\u001b[0m                 \u001b[0mvalues\u001b[0m \u001b[0;34m=\u001b[0m \u001b[0mself\u001b[0m\u001b[0;34m.\u001b[0m\u001b[0mastype\u001b[0m\u001b[0;34m(\u001b[0m\u001b[0mobject\u001b[0m\u001b[0;34m)\u001b[0m\u001b[0;34m.\u001b[0m\u001b[0mvalues\u001b[0m\u001b[0;34m\u001b[0m\u001b[0;34m\u001b[0m\u001b[0m\n\u001b[0;32m-> 4045\u001b[0;31m                 \u001b[0mmapped\u001b[0m \u001b[0;34m=\u001b[0m \u001b[0mlib\u001b[0m\u001b[0;34m.\u001b[0m\u001b[0mmap_infer\u001b[0m\u001b[0;34m(\u001b[0m\u001b[0mvalues\u001b[0m\u001b[0;34m,\u001b[0m \u001b[0mf\u001b[0m\u001b[0;34m,\u001b[0m \u001b[0mconvert\u001b[0m\u001b[0;34m=\u001b[0m\u001b[0mconvert_dtype\u001b[0m\u001b[0;34m)\u001b[0m\u001b[0;34m\u001b[0m\u001b[0;34m\u001b[0m\u001b[0m\n\u001b[0m\u001b[1;32m   4046\u001b[0m \u001b[0;34m\u001b[0m\u001b[0m\n\u001b[1;32m   4047\u001b[0m         \u001b[0;32mif\u001b[0m \u001b[0mlen\u001b[0m\u001b[0;34m(\u001b[0m\u001b[0mmapped\u001b[0m\u001b[0;34m)\u001b[0m \u001b[0;32mand\u001b[0m \u001b[0misinstance\u001b[0m\u001b[0;34m(\u001b[0m\u001b[0mmapped\u001b[0m\u001b[0;34m[\u001b[0m\u001b[0;36m0\u001b[0m\u001b[0;34m]\u001b[0m\u001b[0;34m,\u001b[0m \u001b[0mSeries\u001b[0m\u001b[0;34m)\u001b[0m\u001b[0;34m:\u001b[0m\u001b[0;34m\u001b[0m\u001b[0;34m\u001b[0m\u001b[0m\n",
      "\u001b[0;32mpandas/_libs/lib.pyx\u001b[0m in \u001b[0;36mpandas._libs.lib.map_infer\u001b[0;34m()\u001b[0m\n",
      "\u001b[0;32m<ipython-input-11-241471e6f7e1>\u001b[0m in \u001b[0;36msetCategory\u001b[0;34m(serie)\u001b[0m\n\u001b[1;32m      1\u001b[0m \u001b[0;31m#Function to set category\u001b[0m\u001b[0;34m\u001b[0m\u001b[0;34m\u001b[0m\u001b[0;34m\u001b[0m\u001b[0m\n\u001b[1;32m      2\u001b[0m \u001b[0;32mdef\u001b[0m \u001b[0msetCategory\u001b[0m\u001b[0;34m(\u001b[0m\u001b[0mserie\u001b[0m\u001b[0;34m)\u001b[0m\u001b[0;34m:\u001b[0m\u001b[0;34m\u001b[0m\u001b[0;34m\u001b[0m\u001b[0m\n\u001b[0;32m----> 3\u001b[0;31m     \u001b[0;32mreturn\u001b[0m \u001b[0;34m[\u001b[0m\u001b[0muniq\u001b[0m \u001b[0;32mfor\u001b[0m \u001b[0mind\u001b[0m\u001b[0;34m,\u001b[0m \u001b[0muniq\u001b[0m \u001b[0;32min\u001b[0m \u001b[0menumerate\u001b[0m\u001b[0;34m(\u001b[0m\u001b[0mserie\u001b[0m\u001b[0;34m[\u001b[0m\u001b[0;34m'category'\u001b[0m\u001b[0;34m]\u001b[0m\u001b[0;34m)\u001b[0m \u001b[0;32mif\u001b[0m \u001b[0muniq\u001b[0m \u001b[0;32mnot\u001b[0m \u001b[0;32min\u001b[0m \u001b[0mserie\u001b[0m\u001b[0;34m[\u001b[0m\u001b[0;34m'category'\u001b[0m\u001b[0;34m]\u001b[0m\u001b[0;34m[\u001b[0m\u001b[0;34m:\u001b[0m\u001b[0mind\u001b[0m\u001b[0;34m]\u001b[0m\u001b[0;34m]\u001b[0m\u001b[0;34m\u001b[0m\u001b[0;34m\u001b[0m\u001b[0m\n\u001b[0m",
      "\u001b[0;31mTypeError\u001b[0m: list indices must be integers or slices, not str"
     ]
    }
   ],
   "source": [
    "dfText['categoryset'] = dfText['category'].apply(setCategory)"
   ]
  },
  {
   "cell_type": "code",
   "execution_count": null,
   "metadata": {},
   "outputs": [],
   "source": [
    "#Next steps:\n",
    "\n",
    "#How to explode the category series? "
   ]
  },
  {
   "cell_type": "code",
   "execution_count": null,
   "metadata": {},
   "outputs": [],
   "source": []
  }
 ],
 "metadata": {
  "kernelspec": {
   "display_name": "Python3.8",
   "language": "python",
   "name": "python3.8"
  },
  "language_info": {
   "codemirror_mode": {
    "name": "ipython",
    "version": 3
   },
   "file_extension": ".py",
   "mimetype": "text/x-python",
   "name": "python",
   "nbconvert_exporter": "python",
   "pygments_lexer": "ipython3",
   "version": "3.8.0"
  }
 },
 "nbformat": 4,
 "nbformat_minor": 4
}
