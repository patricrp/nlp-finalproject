{
 "cells": [
  {
   "cell_type": "code",
   "execution_count": 98,
   "metadata": {},
   "outputs": [],
   "source": [
    "import pandas as pd\n",
    "import numpy as np\n",
    "import nltk\n",
    "from nltk.sentiment.vader import SentimentIntensityAnalyzer\n",
    "import fpdf"
   ]
  },
  {
   "cell_type": "code",
   "execution_count": 93,
   "metadata": {},
   "outputs": [
    {
     "data": {
      "text/html": [
       "<div>\n",
       "<style scoped>\n",
       "    .dataframe tbody tr th:only-of-type {\n",
       "        vertical-align: middle;\n",
       "    }\n",
       "\n",
       "    .dataframe tbody tr th {\n",
       "        vertical-align: top;\n",
       "    }\n",
       "\n",
       "    .dataframe thead th {\n",
       "        text-align: right;\n",
       "    }\n",
       "</style>\n",
       "<table border=\"1\" class=\"dataframe\">\n",
       "  <thead>\n",
       "    <tr style=\"text-align: right;\">\n",
       "      <th></th>\n",
       "      <th>Unnamed: 0</th>\n",
       "      <th>id</th>\n",
       "      <th>text</th>\n",
       "      <th>category</th>\n",
       "    </tr>\n",
       "  </thead>\n",
       "  <tbody>\n",
       "    <tr>\n",
       "      <th>0</th>\n",
       "      <td>0</td>\n",
       "      <td>1180633752885743616</td>\n",
       "      <td>People at the cinema thinking they got the #Jo...</td>\n",
       "      <td>PLOT</td>\n",
       "    </tr>\n",
       "    <tr>\n",
       "      <th>1</th>\n",
       "      <td>1</td>\n",
       "      <td>1180633751744913408</td>\n",
       "      <td>I have a new favorite joker @jokermovie #Joker...</td>\n",
       "      <td>NaN</td>\n",
       "    </tr>\n",
       "    <tr>\n",
       "      <th>2</th>\n",
       "      <td>2</td>\n",
       "      <td>1180633723932483584</td>\n",
       "      <td>⭐⭐⭐⭐⭐ Performance, what a movie #JokerMovie pi...</td>\n",
       "      <td>NaN</td>\n",
       "    </tr>\n",
       "    <tr>\n",
       "      <th>3</th>\n",
       "      <td>3</td>\n",
       "      <td>1180633642198077441</td>\n",
       "      <td>#JokerMovie was absolutely amazing and ended w...</td>\n",
       "      <td>HYPE</td>\n",
       "    </tr>\n",
       "    <tr>\n",
       "      <th>4</th>\n",
       "      <td>4</td>\n",
       "      <td>1180633577693880321</td>\n",
       "      <td>I just want to give both Arthur Fleck and Gary...</td>\n",
       "      <td>CHARACTERS</td>\n",
       "    </tr>\n",
       "  </tbody>\n",
       "</table>\n",
       "</div>"
      ],
      "text/plain": [
       "   Unnamed: 0                   id  \\\n",
       "0           0  1180633752885743616   \n",
       "1           1  1180633751744913408   \n",
       "2           2  1180633723932483584   \n",
       "3           3  1180633642198077441   \n",
       "4           4  1180633577693880321   \n",
       "\n",
       "                                                text    category  \n",
       "0  People at the cinema thinking they got the #Jo...        PLOT  \n",
       "1  I have a new favorite joker @jokermovie #Joker...         NaN  \n",
       "2  ⭐⭐⭐⭐⭐ Performance, what a movie #JokerMovie pi...         NaN  \n",
       "3  #JokerMovie was absolutely amazing and ended w...        HYPE  \n",
       "4  I just want to give both Arthur Fleck and Gary...  CHARACTERS  "
      ]
     },
     "execution_count": 93,
     "metadata": {},
     "output_type": "execute_result"
    }
   ],
   "source": [
    "df = pd.read_csv('../output/predicted.csv')\n",
    "df.head()"
   ]
  },
  {
   "cell_type": "code",
   "execution_count": 4,
   "metadata": {},
   "outputs": [
    {
     "data": {
      "text/plain": [
       "{'neg': 0.0, 'neu': 0.815, 'pos': 0.185, 'compound': 0.3612}"
      ]
     },
     "execution_count": 4,
     "metadata": {},
     "output_type": "execute_result"
    }
   ],
   "source": [
    "sia = SentimentIntensityAnalyzer()\n",
    "\n",
    "sentence = df['text'][0]\n",
    "sia.polarity_scores(sentence)"
   ]
  },
  {
   "cell_type": "code",
   "execution_count": 5,
   "metadata": {},
   "outputs": [
    {
     "ename": "ValueError",
     "evalue": "Must have equal len keys and value when setting with an iterable",
     "output_type": "error",
     "traceback": [
      "\u001b[0;31m---------------------------------------------------------------------------\u001b[0m",
      "\u001b[0;31mValueError\u001b[0m                                Traceback (most recent call last)",
      "\u001b[0;32m<ipython-input-5-043d9b0ac222>\u001b[0m in \u001b[0;36m<module>\u001b[0;34m\u001b[0m\n\u001b[1;32m      1\u001b[0m \u001b[0;32mfor\u001b[0m \u001b[0mindex\u001b[0m\u001b[0;34m,\u001b[0m \u001b[0mrow\u001b[0m \u001b[0;32min\u001b[0m \u001b[0mdf\u001b[0m\u001b[0;34m.\u001b[0m\u001b[0miterrows\u001b[0m\u001b[0;34m(\u001b[0m\u001b[0;34m)\u001b[0m\u001b[0;34m:\u001b[0m\u001b[0;34m\u001b[0m\u001b[0;34m\u001b[0m\u001b[0m\n\u001b[1;32m      2\u001b[0m     \u001b[0msentence\u001b[0m \u001b[0;34m=\u001b[0m \u001b[0mrow\u001b[0m\u001b[0;34m[\u001b[0m\u001b[0;34m'text'\u001b[0m\u001b[0;34m]\u001b[0m\u001b[0;34m\u001b[0m\u001b[0;34m\u001b[0m\u001b[0m\n\u001b[0;32m----> 3\u001b[0;31m     \u001b[0mdf\u001b[0m\u001b[0;34m.\u001b[0m\u001b[0mloc\u001b[0m\u001b[0;34m[\u001b[0m\u001b[0mindex\u001b[0m\u001b[0;34m,\u001b[0m \u001b[0;34m'sentiment'\u001b[0m\u001b[0;34m]\u001b[0m \u001b[0;34m=\u001b[0m \u001b[0msia\u001b[0m\u001b[0;34m.\u001b[0m\u001b[0mpolarity_scores\u001b[0m\u001b[0;34m(\u001b[0m\u001b[0msentence\u001b[0m\u001b[0;34m)\u001b[0m\u001b[0;34m\u001b[0m\u001b[0;34m\u001b[0m\u001b[0m\n\u001b[0m",
      "\u001b[0;32m/Library/Frameworks/Python.framework/Versions/3.8/lib/python3.8/site-packages/pandas/core/indexing.py\u001b[0m in \u001b[0;36m__setitem__\u001b[0;34m(self, key, value)\u001b[0m\n\u001b[1;32m    203\u001b[0m             \u001b[0mkey\u001b[0m \u001b[0;34m=\u001b[0m \u001b[0mcom\u001b[0m\u001b[0;34m.\u001b[0m\u001b[0mapply_if_callable\u001b[0m\u001b[0;34m(\u001b[0m\u001b[0mkey\u001b[0m\u001b[0;34m,\u001b[0m \u001b[0mself\u001b[0m\u001b[0;34m.\u001b[0m\u001b[0mobj\u001b[0m\u001b[0;34m)\u001b[0m\u001b[0;34m\u001b[0m\u001b[0;34m\u001b[0m\u001b[0m\n\u001b[1;32m    204\u001b[0m         \u001b[0mindexer\u001b[0m \u001b[0;34m=\u001b[0m \u001b[0mself\u001b[0m\u001b[0;34m.\u001b[0m\u001b[0m_get_setitem_indexer\u001b[0m\u001b[0;34m(\u001b[0m\u001b[0mkey\u001b[0m\u001b[0;34m)\u001b[0m\u001b[0;34m\u001b[0m\u001b[0;34m\u001b[0m\u001b[0m\n\u001b[0;32m--> 205\u001b[0;31m         \u001b[0mself\u001b[0m\u001b[0;34m.\u001b[0m\u001b[0m_setitem_with_indexer\u001b[0m\u001b[0;34m(\u001b[0m\u001b[0mindexer\u001b[0m\u001b[0;34m,\u001b[0m \u001b[0mvalue\u001b[0m\u001b[0;34m)\u001b[0m\u001b[0;34m\u001b[0m\u001b[0;34m\u001b[0m\u001b[0m\n\u001b[0m\u001b[1;32m    206\u001b[0m \u001b[0;34m\u001b[0m\u001b[0m\n\u001b[1;32m    207\u001b[0m     \u001b[0;32mdef\u001b[0m \u001b[0m_validate_key\u001b[0m\u001b[0;34m(\u001b[0m\u001b[0mself\u001b[0m\u001b[0;34m,\u001b[0m \u001b[0mkey\u001b[0m\u001b[0;34m,\u001b[0m \u001b[0maxis\u001b[0m\u001b[0;34m:\u001b[0m \u001b[0mint\u001b[0m\u001b[0;34m)\u001b[0m\u001b[0;34m:\u001b[0m\u001b[0;34m\u001b[0m\u001b[0;34m\u001b[0m\u001b[0m\n",
      "\u001b[0;32m/Library/Frameworks/Python.framework/Versions/3.8/lib/python3.8/site-packages/pandas/core/indexing.py\u001b[0m in \u001b[0;36m_setitem_with_indexer\u001b[0;34m(self, indexer, value)\u001b[0m\n\u001b[1;32m    379\u001b[0m                             \u001b[0mindexer\u001b[0m\u001b[0;34m,\u001b[0m \u001b[0mself\u001b[0m\u001b[0;34m.\u001b[0m\u001b[0mobj\u001b[0m\u001b[0;34m.\u001b[0m\u001b[0maxes\u001b[0m\u001b[0;34m\u001b[0m\u001b[0;34m\u001b[0m\u001b[0m\n\u001b[1;32m    380\u001b[0m                         )\n\u001b[0;32m--> 381\u001b[0;31m                         \u001b[0mself\u001b[0m\u001b[0;34m.\u001b[0m\u001b[0m_setitem_with_indexer\u001b[0m\u001b[0;34m(\u001b[0m\u001b[0mnew_indexer\u001b[0m\u001b[0;34m,\u001b[0m \u001b[0mvalue\u001b[0m\u001b[0;34m)\u001b[0m\u001b[0;34m\u001b[0m\u001b[0;34m\u001b[0m\u001b[0m\n\u001b[0m\u001b[1;32m    382\u001b[0m \u001b[0;34m\u001b[0m\u001b[0m\n\u001b[1;32m    383\u001b[0m                         \u001b[0;32mreturn\u001b[0m \u001b[0mself\u001b[0m\u001b[0;34m.\u001b[0m\u001b[0mobj\u001b[0m\u001b[0;34m\u001b[0m\u001b[0;34m\u001b[0m\u001b[0m\n",
      "\u001b[0;32m/Library/Frameworks/Python.framework/Versions/3.8/lib/python3.8/site-packages/pandas/core/indexing.py\u001b[0m in \u001b[0;36m_setitem_with_indexer\u001b[0;34m(self, indexer, value)\u001b[0m\n\u001b[1;32m    544\u001b[0m \u001b[0;34m\u001b[0m\u001b[0m\n\u001b[1;32m    545\u001b[0m                     \u001b[0;32mif\u001b[0m \u001b[0mlen\u001b[0m\u001b[0;34m(\u001b[0m\u001b[0mlabels\u001b[0m\u001b[0;34m)\u001b[0m \u001b[0;34m!=\u001b[0m \u001b[0mlen\u001b[0m\u001b[0;34m(\u001b[0m\u001b[0mvalue\u001b[0m\u001b[0;34m)\u001b[0m\u001b[0;34m:\u001b[0m\u001b[0;34m\u001b[0m\u001b[0;34m\u001b[0m\u001b[0m\n\u001b[0;32m--> 546\u001b[0;31m                         raise ValueError(\n\u001b[0m\u001b[1;32m    547\u001b[0m                             \u001b[0;34m\"Must have equal len keys and value \"\u001b[0m\u001b[0;34m\u001b[0m\u001b[0;34m\u001b[0m\u001b[0m\n\u001b[1;32m    548\u001b[0m                             \u001b[0;34m\"when setting with an iterable\"\u001b[0m\u001b[0;34m\u001b[0m\u001b[0;34m\u001b[0m\u001b[0m\n",
      "\u001b[0;31mValueError\u001b[0m: Must have equal len keys and value when setting with an iterable"
     ]
    }
   ],
   "source": [
    "for index, row in df.iterrows():\n",
    "    sentence = row['text']\n",
    "    df.loc[index, 'sentiment'] = sia.polarity_scores(sentence)\n",
    "    \n",
    "    \n",
    "    \n",
    "    \n",
    "    \n",
    "for index, row in df.iterrows():\n",
    "        doc = nlp(row['text'])\n",
    "        for ent in doc.ents:\n",
    "            df.loc[index, 'category'] = [(ent.label_)]"
   ]
  },
  {
   "cell_type": "code",
   "execution_count": 9,
   "metadata": {},
   "outputs": [],
   "source": [
    "df['sentiment'] = df['text'].apply(lambda x: sia.polarity_scores(x))"
   ]
  },
  {
   "cell_type": "code",
   "execution_count": 10,
   "metadata": {},
   "outputs": [
    {
     "data": {
      "text/html": [
       "<div>\n",
       "<style scoped>\n",
       "    .dataframe tbody tr th:only-of-type {\n",
       "        vertical-align: middle;\n",
       "    }\n",
       "\n",
       "    .dataframe tbody tr th {\n",
       "        vertical-align: top;\n",
       "    }\n",
       "\n",
       "    .dataframe thead th {\n",
       "        text-align: right;\n",
       "    }\n",
       "</style>\n",
       "<table border=\"1\" class=\"dataframe\">\n",
       "  <thead>\n",
       "    <tr style=\"text-align: right;\">\n",
       "      <th></th>\n",
       "      <th>Unnamed: 0</th>\n",
       "      <th>id</th>\n",
       "      <th>text</th>\n",
       "      <th>category</th>\n",
       "      <th>sentiment</th>\n",
       "    </tr>\n",
       "  </thead>\n",
       "  <tbody>\n",
       "    <tr>\n",
       "      <th>0</th>\n",
       "      <td>0</td>\n",
       "      <td>1180633752885743616</td>\n",
       "      <td>People at the cinema thinking they got the #Jo...</td>\n",
       "      <td>PLOT</td>\n",
       "      <td>{'neg': 0.0, 'neu': 0.815, 'pos': 0.185, 'comp...</td>\n",
       "    </tr>\n",
       "    <tr>\n",
       "      <th>1</th>\n",
       "      <td>1</td>\n",
       "      <td>1180633751744913408</td>\n",
       "      <td>I have a new favorite joker @jokermovie #Joker...</td>\n",
       "      <td>NaN</td>\n",
       "      <td>{'neg': 0.0, 'neu': 0.526, 'pos': 0.474, 'comp...</td>\n",
       "    </tr>\n",
       "    <tr>\n",
       "      <th>2</th>\n",
       "      <td>2</td>\n",
       "      <td>1180633723932483584</td>\n",
       "      <td>⭐⭐⭐⭐⭐ Performance, what a movie #JokerMovie pi...</td>\n",
       "      <td>NaN</td>\n",
       "      <td>{'neg': 0.0, 'neu': 1.0, 'pos': 0.0, 'compound...</td>\n",
       "    </tr>\n",
       "    <tr>\n",
       "      <th>3</th>\n",
       "      <td>3</td>\n",
       "      <td>1180633642198077441</td>\n",
       "      <td>#JokerMovie was absolutely amazing and ended w...</td>\n",
       "      <td>HYPE</td>\n",
       "      <td>{'neg': 0.0, 'neu': 0.674, 'pos': 0.326, 'comp...</td>\n",
       "    </tr>\n",
       "    <tr>\n",
       "      <th>4</th>\n",
       "      <td>4</td>\n",
       "      <td>1180633577693880321</td>\n",
       "      <td>I just want to give both Arthur Fleck and Gary...</td>\n",
       "      <td>CHARACTERS</td>\n",
       "      <td>{'neg': 0.0, 'neu': 0.714, 'pos': 0.286, 'comp...</td>\n",
       "    </tr>\n",
       "  </tbody>\n",
       "</table>\n",
       "</div>"
      ],
      "text/plain": [
       "   Unnamed: 0                   id  \\\n",
       "0           0  1180633752885743616   \n",
       "1           1  1180633751744913408   \n",
       "2           2  1180633723932483584   \n",
       "3           3  1180633642198077441   \n",
       "4           4  1180633577693880321   \n",
       "\n",
       "                                                text    category  \\\n",
       "0  People at the cinema thinking they got the #Jo...        PLOT   \n",
       "1  I have a new favorite joker @jokermovie #Joker...         NaN   \n",
       "2  ⭐⭐⭐⭐⭐ Performance, what a movie #JokerMovie pi...         NaN   \n",
       "3  #JokerMovie was absolutely amazing and ended w...        HYPE   \n",
       "4  I just want to give both Arthur Fleck and Gary...  CHARACTERS   \n",
       "\n",
       "                                           sentiment  \n",
       "0  {'neg': 0.0, 'neu': 0.815, 'pos': 0.185, 'comp...  \n",
       "1  {'neg': 0.0, 'neu': 0.526, 'pos': 0.474, 'comp...  \n",
       "2  {'neg': 0.0, 'neu': 1.0, 'pos': 0.0, 'compound...  \n",
       "3  {'neg': 0.0, 'neu': 0.674, 'pos': 0.326, 'comp...  \n",
       "4  {'neg': 0.0, 'neu': 0.714, 'pos': 0.286, 'comp...  "
      ]
     },
     "execution_count": 10,
     "metadata": {},
     "output_type": "execute_result"
    }
   ],
   "source": [
    "df.head()"
   ]
  },
  {
   "cell_type": "code",
   "execution_count": 38,
   "metadata": {},
   "outputs": [],
   "source": [
    "df['negative'] = df['sentiment'].apply(lambda x: x['neg'])\n",
    "df['neutral'] = df['sentiment'].apply(lambda x: x['neu'])\n",
    "df['positive'] = df['sentiment'].apply(lambda x: x['pos'])"
   ]
  },
  {
   "cell_type": "code",
   "execution_count": 39,
   "metadata": {},
   "outputs": [
    {
     "data": {
      "text/html": [
       "<div>\n",
       "<style scoped>\n",
       "    .dataframe tbody tr th:only-of-type {\n",
       "        vertical-align: middle;\n",
       "    }\n",
       "\n",
       "    .dataframe tbody tr th {\n",
       "        vertical-align: top;\n",
       "    }\n",
       "\n",
       "    .dataframe thead th {\n",
       "        text-align: right;\n",
       "    }\n",
       "</style>\n",
       "<table border=\"1\" class=\"dataframe\">\n",
       "  <thead>\n",
       "    <tr style=\"text-align: right;\">\n",
       "      <th></th>\n",
       "      <th>Unnamed: 0</th>\n",
       "      <th>id</th>\n",
       "      <th>text</th>\n",
       "      <th>category</th>\n",
       "      <th>sentiment</th>\n",
       "      <th>negative</th>\n",
       "      <th>neutral</th>\n",
       "      <th>positive</th>\n",
       "    </tr>\n",
       "  </thead>\n",
       "  <tbody>\n",
       "    <tr>\n",
       "      <th>0</th>\n",
       "      <td>0</td>\n",
       "      <td>1180633752885743616</td>\n",
       "      <td>People at the cinema thinking they got the #Jo...</td>\n",
       "      <td>PLOT</td>\n",
       "      <td>{'neg': 0.0, 'neu': 0.815, 'pos': 0.185, 'comp...</td>\n",
       "      <td>0.0</td>\n",
       "      <td>0.815</td>\n",
       "      <td>0.185</td>\n",
       "    </tr>\n",
       "    <tr>\n",
       "      <th>1</th>\n",
       "      <td>1</td>\n",
       "      <td>1180633751744913408</td>\n",
       "      <td>I have a new favorite joker @jokermovie #Joker...</td>\n",
       "      <td>NaN</td>\n",
       "      <td>{'neg': 0.0, 'neu': 0.526, 'pos': 0.474, 'comp...</td>\n",
       "      <td>0.0</td>\n",
       "      <td>0.526</td>\n",
       "      <td>0.474</td>\n",
       "    </tr>\n",
       "    <tr>\n",
       "      <th>2</th>\n",
       "      <td>2</td>\n",
       "      <td>1180633723932483584</td>\n",
       "      <td>⭐⭐⭐⭐⭐ Performance, what a movie #JokerMovie pi...</td>\n",
       "      <td>NaN</td>\n",
       "      <td>{'neg': 0.0, 'neu': 1.0, 'pos': 0.0, 'compound...</td>\n",
       "      <td>0.0</td>\n",
       "      <td>1.000</td>\n",
       "      <td>0.000</td>\n",
       "    </tr>\n",
       "    <tr>\n",
       "      <th>3</th>\n",
       "      <td>3</td>\n",
       "      <td>1180633642198077441</td>\n",
       "      <td>#JokerMovie was absolutely amazing and ended w...</td>\n",
       "      <td>HYPE</td>\n",
       "      <td>{'neg': 0.0, 'neu': 0.674, 'pos': 0.326, 'comp...</td>\n",
       "      <td>0.0</td>\n",
       "      <td>0.674</td>\n",
       "      <td>0.326</td>\n",
       "    </tr>\n",
       "    <tr>\n",
       "      <th>4</th>\n",
       "      <td>4</td>\n",
       "      <td>1180633577693880321</td>\n",
       "      <td>I just want to give both Arthur Fleck and Gary...</td>\n",
       "      <td>CHARACTERS</td>\n",
       "      <td>{'neg': 0.0, 'neu': 0.714, 'pos': 0.286, 'comp...</td>\n",
       "      <td>0.0</td>\n",
       "      <td>0.714</td>\n",
       "      <td>0.286</td>\n",
       "    </tr>\n",
       "  </tbody>\n",
       "</table>\n",
       "</div>"
      ],
      "text/plain": [
       "   Unnamed: 0                   id  \\\n",
       "0           0  1180633752885743616   \n",
       "1           1  1180633751744913408   \n",
       "2           2  1180633723932483584   \n",
       "3           3  1180633642198077441   \n",
       "4           4  1180633577693880321   \n",
       "\n",
       "                                                text    category  \\\n",
       "0  People at the cinema thinking they got the #Jo...        PLOT   \n",
       "1  I have a new favorite joker @jokermovie #Joker...         NaN   \n",
       "2  ⭐⭐⭐⭐⭐ Performance, what a movie #JokerMovie pi...         NaN   \n",
       "3  #JokerMovie was absolutely amazing and ended w...        HYPE   \n",
       "4  I just want to give both Arthur Fleck and Gary...  CHARACTERS   \n",
       "\n",
       "                                           sentiment  negative  neutral  \\\n",
       "0  {'neg': 0.0, 'neu': 0.815, 'pos': 0.185, 'comp...       0.0    0.815   \n",
       "1  {'neg': 0.0, 'neu': 0.526, 'pos': 0.474, 'comp...       0.0    0.526   \n",
       "2  {'neg': 0.0, 'neu': 1.0, 'pos': 0.0, 'compound...       0.0    1.000   \n",
       "3  {'neg': 0.0, 'neu': 0.674, 'pos': 0.326, 'comp...       0.0    0.674   \n",
       "4  {'neg': 0.0, 'neu': 0.714, 'pos': 0.286, 'comp...       0.0    0.714   \n",
       "\n",
       "   positive  \n",
       "0     0.185  \n",
       "1     0.474  \n",
       "2     0.000  \n",
       "3     0.326  \n",
       "4     0.286  "
      ]
     },
     "execution_count": 39,
     "metadata": {},
     "output_type": "execute_result"
    }
   ],
   "source": [
    "df.head()"
   ]
  },
  {
   "cell_type": "code",
   "execution_count": 40,
   "metadata": {},
   "outputs": [
    {
     "data": {
      "text/plain": [
       "0.0592680601040262"
      ]
     },
     "execution_count": 40,
     "metadata": {},
     "output_type": "execute_result"
    }
   ],
   "source": [
    "df['negative'].mean()"
   ]
  },
  {
   "cell_type": "code",
   "execution_count": 41,
   "metadata": {},
   "outputs": [
    {
     "data": {
      "text/plain": [
       "0.7931659121556539"
      ]
     },
     "execution_count": 41,
     "metadata": {},
     "output_type": "execute_result"
    }
   ],
   "source": [
    "df['neutral'].mean()"
   ]
  },
  {
   "cell_type": "code",
   "execution_count": 42,
   "metadata": {},
   "outputs": [
    {
     "data": {
      "text/plain": [
       "0.14756814679252553"
      ]
     },
     "execution_count": 42,
     "metadata": {},
     "output_type": "execute_result"
    }
   ],
   "source": [
    "df['positive'].mean()"
   ]
  },
  {
   "cell_type": "code",
   "execution_count": 44,
   "metadata": {},
   "outputs": [],
   "source": [
    "sentiment = pd.DataFrame([df['negative'].mean(), df['neutral'].mean(), df['positive'].mean()])"
   ]
  },
  {
   "cell_type": "code",
   "execution_count": 86,
   "metadata": {},
   "outputs": [
    {
     "name": "stderr",
     "output_type": "stream",
     "text": [
      "<ipython-input-86-c210bba7358b>:7: MatplotlibDeprecationWarning: Non-1D inputs to pie() are currently squeeze()d, but this behavior is deprecated since 3.1 and will be removed in 3.3; pass a 1D array instead.\n",
      "  plt.pie(sentiment, labels=labels, colors = colors, autopct='%1.1f%%', startangle=90, pctdistance=0.85, explode=explode)\n"
     ]
    },
    {
     "data": {
      "text/plain": [
       "([<matplotlib.patches.Wedge at 0x129f70250>,\n",
       "  <matplotlib.patches.Wedge at 0x129f61160>,\n",
       "  <matplotlib.patches.Wedge at 0x129f61ac0>],\n",
       " [Text(-0.21288996171989744, 1.1301229420726318, 'Negative'),\n",
       "  Text(-0.3149370624485987, -1.1060355539928397, 'Neutral'),\n",
       "  Text(0.5142448616769113, 1.0286166546575524, 'Positive')],\n",
       " [Text(-0.16660953525905015, 0.8844440416220595, '5.9%'),\n",
       "  Text(-0.246472483655425, -0.8655930422552657, '79.3%'),\n",
       "  Text(0.4024525004428002, 0.8050043384276496, '14.8%')])"
      ]
     },
     "execution_count": 86,
     "metadata": {},
     "output_type": "execute_result"
    },
    {
     "data": {
      "image/png": "[encoded data removed]",
      "text/plain": [
       "<Figure size 432x288 with 1 Axes>"
      ]
     },
     "metadata": {},
     "output_type": "display_data"
    }
   ],
   "source": [
    "colors = ['#C00202','#C6C6C6','#249B1F']\n",
    "labels = ['Negative', 'Neutral', 'Positive']\n",
    "explode = (0.05,0.05,0.05)\n",
    "centre_circle = plt.Circle((0,0),0.60,fc='white')\n",
    "fig = plt.gcf()\n",
    "fig.gca().add_artist(centre_circle)\n",
    "plt.pie(sentiment, labels=labels, colors = colors, autopct='%1.1f%%', startangle=90, pctdistance=0.85, explode=explode)"
   ]
  },
  {
   "cell_type": "code",
   "execution_count": 60,
   "metadata": {},
   "outputs": [
    {
     "name": "stdout",
     "output_type": "stream",
     "text": [
      "The graph is done\n"
     ]
    },
    {
     "data": {
      "image/png": "[encoded data removed]",
      "text/plain": [
       "<Figure size 432x288 with 1 Axes>"
      ]
     },
     "metadata": {
      "needs_background": "light"
     },
     "output_type": "display_data"
    }
   ],
   "source": [
    "graph = sns.countplot(data=df, x = 'category')\n",
    "plt.title('Categories distribution')\n",
    "plt.xticks(rotation=30)\n",
    "plt.tight_layout()\n",
    "#plt.savefig('../output/barcategories') \n",
    "print('The graph is done')"
   ]
  },
  {
   "cell_type": "code",
   "execution_count": 61,
   "metadata": {},
   "outputs": [],
   "source": [
    "def graphCategory(df):\n",
    "    graph = sns.countplot(data=df, x = 'category')\n",
    "    plt.title('Categories distribution')\n",
    "    plt.xticks(rotation=30)\n",
    "    plt.tight_layout()\n",
    "    #plt.savefig('../output/barcategories') \n",
    "    print('Your category graph is ready in the output folder')"
   ]
  },
  {
   "cell_type": "code",
   "execution_count": 62,
   "metadata": {},
   "outputs": [
    {
     "name": "stdout",
     "output_type": "stream",
     "text": [
      "Your category graph is ready in the output folder\n"
     ]
    },
    {
     "data": {
      "image/png": "[encoded data removed]",
      "text/plain": [
       "<Figure size 432x288 with 1 Axes>"
      ]
     },
     "metadata": {
      "needs_background": "light"
     },
     "output_type": "display_data"
    }
   ],
   "source": [
    "graphCategory(df)"
   ]
  },
  {
   "cell_type": "code",
   "execution_count": 64,
   "metadata": {},
   "outputs": [],
   "source": [
    "df_group = df.groupby('category').agg({'negative':'mean', 'neutral':'mean', 'positive':'mean'})"
   ]
  },
  {
   "cell_type": "code",
   "execution_count": 77,
   "metadata": {},
   "outputs": [
    {
     "data": {
      "text/html": [
       "<div>\n",
       "<style scoped>\n",
       "    .dataframe tbody tr th:only-of-type {\n",
       "        vertical-align: middle;\n",
       "    }\n",
       "\n",
       "    .dataframe tbody tr th {\n",
       "        vertical-align: top;\n",
       "    }\n",
       "\n",
       "    .dataframe thead th {\n",
       "        text-align: right;\n",
       "    }\n",
       "</style>\n",
       "<table border=\"1\" class=\"dataframe\">\n",
       "  <thead>\n",
       "    <tr style=\"text-align: right;\">\n",
       "      <th></th>\n",
       "      <th>negative</th>\n",
       "      <th>neutral</th>\n",
       "      <th>positive</th>\n",
       "    </tr>\n",
       "    <tr>\n",
       "      <th>category</th>\n",
       "      <th></th>\n",
       "      <th></th>\n",
       "      <th></th>\n",
       "    </tr>\n",
       "  </thead>\n",
       "  <tbody>\n",
       "    <tr>\n",
       "      <th>CHARACTERS</th>\n",
       "      <td>0.057925</td>\n",
       "      <td>0.762071</td>\n",
       "      <td>0.179976</td>\n",
       "    </tr>\n",
       "    <tr>\n",
       "      <th>HYPE</th>\n",
       "      <td>0.069270</td>\n",
       "      <td>0.753009</td>\n",
       "      <td>0.177737</td>\n",
       "    </tr>\n",
       "    <tr>\n",
       "      <th>PLOT</th>\n",
       "      <td>0.047000</td>\n",
       "      <td>0.822857</td>\n",
       "      <td>0.130238</td>\n",
       "    </tr>\n",
       "    <tr>\n",
       "      <th>TALENT</th>\n",
       "      <td>0.058945</td>\n",
       "      <td>0.759957</td>\n",
       "      <td>0.181102</td>\n",
       "    </tr>\n",
       "  </tbody>\n",
       "</table>\n",
       "</div>"
      ],
      "text/plain": [
       "            negative   neutral  positive\n",
       "category                                \n",
       "CHARACTERS  0.057925  0.762071  0.179976\n",
       "HYPE        0.069270  0.753009  0.177737\n",
       "PLOT        0.047000  0.822857  0.130238\n",
       "TALENT      0.058945  0.759957  0.181102"
      ]
     },
     "execution_count": 77,
     "metadata": {},
     "output_type": "execute_result"
    }
   ],
   "source": [
    "df_group.head()"
   ]
  },
  {
   "cell_type": "code",
   "execution_count": 87,
   "metadata": {},
   "outputs": [
    {
     "name": "stdout",
     "output_type": "stream",
     "text": [
      "Your sentiment by category graph is ready in the output folder\n"
     ]
    },
    {
     "data": {
      "image/png": "[encoded data removed]",
      "text/plain": [
       "<Figure size 432x288 with 1 Axes>"
      ]
     },
     "metadata": {
      "needs_background": "light"
     },
     "output_type": "display_data"
    }
   ],
   "source": [
    "colors = ['#C00202','#C6C6C6','#249B1F']\n",
    "\n",
    "df_group.plot(colors = colors, kind='bar', stacked=True)\n",
    "plt.title('Sentiment by category')\n",
    "plt.xticks(rotation=30)\n",
    "plt.tight_layout()\n",
    "plt.gca()\n",
    "plt.xlabel('Categories')\n",
    "plt.legend(title='Sentiment', loc='best')\n",
    "plt.savefig('../output/sentimentcat') \n",
    "print('Your sentiment by category graph is ready in the output folder')"
   ]
  },
  {
   "cell_type": "code",
   "execution_count": 88,
   "metadata": {},
   "outputs": [],
   "source": [
    "def graphSentCat(df):\n",
    "    df_group = df.groupby('category').agg({'negative':'mean', 'neutral':'mean', 'positive':'mean'})\n",
    "    colors = ['#C00202','#C6C6C6','#249B1F']\n",
    "    df_group.plot(colors = colors, kind='bar', stacked=True)\n",
    "    plt.title('Sentiment by category')\n",
    "    plt.xticks(rotation=30)\n",
    "    plt.tight_layout()\n",
    "    plt.gca()\n",
    "    plt.xlabel('Categories')\n",
    "    plt.legend(title='Sentiment', loc='best')\n",
    "    plt.savefig('../output/sentimentcat') \n",
    "    print('Your sentiment by category graph is ready in the output folder')"
   ]
  },
  {
   "cell_type": "code",
   "execution_count": 89,
   "metadata": {},
   "outputs": [
    {
     "name": "stdout",
     "output_type": "stream",
     "text": [
      "Your sentiment by category graph is ready in the output folder\n"
     ]
    },
    {
     "data": {
      "image/png": "[encoded data removed]",
      "text/plain": [
       "<Figure size 432x288 with 1 Axes>"
      ]
     },
     "metadata": {
      "needs_background": "light"
     },
     "output_type": "display_data"
    }
   ],
   "source": [
    "graphSentCat(df)"
   ]
  },
  {
   "cell_type": "code",
   "execution_count": 99,
   "metadata": {},
   "outputs": [],
   "source": [
    "def graphSentiment(df):\n",
    "    #Sentiment analysis\n",
    "    df = sentimentAnalysis(df)\n",
    "\n",
    "    #Get a sentiment graph \n",
    "    sentiment = pd.DataFrame([df['negative'].mean(), df['neutral'].mean(), df['positive'].mean()])\n",
    "    colors = ['#C00202','#C6C6C6','#249B1F']\n",
    "    labels = ['Negative', 'Neutral', 'Positive']\n",
    "    explode = (0.05,0.05,0.05)\n",
    "    centre_circle = plt.Circle((0,0),0.60,fc='white')\n",
    "    plt.figure()\n",
    "    plt.subplot()\n",
    "    fig = plt.gcf()\n",
    "    fig.gca().add_artist(centre_circle)\n",
    "    plt.pie(sentiment, labels=labels, colors = colors, autopct='%1.1f%%', startangle=90, pctdistance=0.85, explode=explode)\n",
    "    \n",
    "    plt.title('Sentiment Analysis')\n",
    "    plt.tight_layout()\n",
    "    plt.savefig('../output/sentiment') \n",
    "    \n",
    "    print('Your sentiment graph is ready in the output folder')"
   ]
  },
  {
   "cell_type": "code",
   "execution_count": 94,
   "metadata": {},
   "outputs": [],
   "source": [
    "def sentimentAnalysis(df):\n",
    "    #Sentiment analysis\n",
    "    sia = SentimentIntensityAnalyzer()\n",
    "    df['sentiment'] = df['text'].apply(lambda x: sia.polarity_scores(x))\n",
    "    df['negative'] = df['sentiment'].apply(lambda x: x['neg'])\n",
    "    df['neutral'] = df['sentiment'].apply(lambda x: x['neu'])\n",
    "    df['positive'] = df['sentiment'].apply(lambda x: x['pos'])\n",
    "\n",
    "    return df"
   ]
  },
  {
   "cell_type": "code",
   "execution_count": null,
   "metadata": {},
   "outputs": [],
   "source": []
  },
  {
   "cell_type": "code",
   "execution_count": 100,
   "metadata": {},
   "outputs": [
    {
     "name": "stdout",
     "output_type": "stream",
     "text": [
      "Your sentiment graph is ready in the output folder\n"
     ]
    },
    {
     "name": "stderr",
     "output_type": "stream",
     "text": [
      "<ipython-input-99-8115df967534>:15: MatplotlibDeprecationWarning: Non-1D inputs to pie() are currently squeeze()d, but this behavior is deprecated since 3.1 and will be removed in 3.3; pass a 1D array instead.\n",
      "  plt.pie(sentiment, labels=labels, colors = colors, autopct='%1.1f%%', startangle=90, pctdistance=0.85, explode=explode)\n"
     ]
    },
    {
     "data": {
      "image/png": "[encoded data removed]",
      "text/plain": [
       "<Figure size 432x288 with 1 Axes>"
      ]
     },
     "metadata": {},
     "output_type": "display_data"
    }
   ],
   "source": [
    "graphSentiment(df)"
   ]
  },
  {
   "cell_type": "code",
   "execution_count": 97,
   "metadata": {},
   "outputs": [
    {
     "ename": "NameError",
     "evalue": "name 'FPDF' is not defined",
     "output_type": "error",
     "traceback": [
      "\u001b[0;31m---------------------------------------------------------------------------\u001b[0m",
      "\u001b[0;31mNameError\u001b[0m                                 Traceback (most recent call last)",
      "\u001b[0;32m<ipython-input-97-ff0ce1aabe89>\u001b[0m in \u001b[0;36m<module>\u001b[0;34m\u001b[0m\n\u001b[0;32m----> 1\u001b[0;31m \u001b[0mpdf\u001b[0m \u001b[0;34m=\u001b[0m \u001b[0mFPDF\u001b[0m\u001b[0;34m(\u001b[0m\u001b[0;34m'P'\u001b[0m\u001b[0;34m,\u001b[0m \u001b[0;34m'mm'\u001b[0m\u001b[0;34m,\u001b[0m \u001b[0;34m'A4'\u001b[0m\u001b[0;34m)\u001b[0m\u001b[0;34m\u001b[0m\u001b[0;34m\u001b[0m\u001b[0m\n\u001b[0m\u001b[1;32m      2\u001b[0m \u001b[0;34m\u001b[0m\u001b[0m\n\u001b[1;32m      3\u001b[0m \u001b[0mpdf\u001b[0m\u001b[0;34m.\u001b[0m\u001b[0madd_page\u001b[0m\u001b[0;34m(\u001b[0m\u001b[0;34m)\u001b[0m\u001b[0;34m\u001b[0m\u001b[0;34m\u001b[0m\u001b[0m\n\u001b[1;32m      4\u001b[0m \u001b[0;34m\u001b[0m\u001b[0m\n\u001b[1;32m      5\u001b[0m \u001b[0;31m#Set Title\u001b[0m\u001b[0;34m\u001b[0m\u001b[0;34m\u001b[0m\u001b[0;34m\u001b[0m\u001b[0m\n",
      "\u001b[0;31mNameError\u001b[0m: name 'FPDF' is not defined"
     ]
    }
   ],
   "source": [
    "pdf = FPDF('P', 'mm', 'A4')\n",
    "\n",
    "pdf.add_page()\n",
    "\n",
    "#Set Title\n",
    "pdf.set_font('Arial', 'B', 20)\n",
    "pdf.cell(0, 10, 'Social Media Report', 0, 1, 'C')\n",
    "\n",
    "#First row of data\n",
    "pdf.cell(0, 10, ' ', 0, 1, 'C')\n",
    "\n",
    "pdf.set_font('Arial', '', 14)\n",
    "volume, percentage = fc.volumeCategories('../output/predicted.csv')\n",
    "pdf.cell(95, 10, f'Total of tweets {volume}')\n",
    "\n",
    "pdf.set_font('Arial', '', 14)\n",
    "pdf.cell(95, 10, f'Percentage of tweets classificated {percentage}%', 0, 1, 'C')\n",
    "\n",
    "pdf.cell(0, 10, ' ', 0, 1, 'C')\n",
    "#Categories\n",
    "pdf.set_font('Arial', '', 14)\n",
    "pdf.cell(0, 10, 'Categories', 0, 1, 'C')\n",
    "pdf.image('../output/barcategories.png', 40, h=90)\n",
    "\n",
    "pdf.cell(0, 10, ' ', 0, 1, 'C')\n",
    "#Sentiment\n",
    "pdf.set_font('Arial', '', 14)\n",
    "pdf.cell(95, 10, 'Sentiment', 0, 0, 'C')\n",
    "pdf.image('../output/sentiment.png', 5, 170, h=70)\n",
    "\n",
    "pdf.set_font('Arial', '', 14)\n",
    "pdf.cell(95, 10, 'Sentiment by Category', 0, 1, 'C')\n",
    "pdf.image('../output/sentimentcat.png', 100, 170, h=70)\n",
    "\n",
    "pdf.output('../output/report.pdf', 'F')\n",
    "\n",
    "print('Your PDF is ready')\n"
   ]
  },
  {
   "cell_type": "code",
   "execution_count": null,
   "metadata": {},
   "outputs": [],
   "source": []
  }
 ],
 "metadata": {
  "kernelspec": {
   "display_name": "Python3.8",
   "language": "python",
   "name": "python3.8"
  },
  "language_info": {
   "codemirror_mode": {
    "name": "ipython",
    "version": 3
   },
   "file_extension": ".py",
   "mimetype": "text/x-python",
   "name": "python",
   "nbconvert_exporter": "python",
   "pygments_lexer": "ipython3",
   "version": "3.8.0"
  }
 },
 "nbformat": 4,
 "nbformat_minor": 4
}
