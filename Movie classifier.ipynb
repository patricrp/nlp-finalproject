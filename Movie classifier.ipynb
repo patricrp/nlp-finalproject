{
 "cells": [
  {
   "cell_type": "code",
   "execution_count": 17,
   "metadata": {},
   "outputs": [],
   "source": [
    "import pandas as pd\n",
    "import numpy as np\n",
    "import spacy\n",
    "import random\n",
    "import re\n",
    "import plac\n",
    "from pathlib import Path\n",
    "from spacy.util import minibatch, compounding\n",
    "from __future__ import unicode_literals, print_function\n",
    "import csv\n",
    "\n",
    "import src.dataready as dataready\n",
    "import src.train as train\n",
    "\n"
   ]
  },
  {
   "cell_type": "markdown",
   "metadata": {},
   "source": [
    "# Getting data ready for the API"
   ]
  },
  {
   "cell_type": "code",
   "execution_count": 2,
   "metadata": {},
   "outputs": [],
   "source": [
    "categories = {\n",
    "    'CHARACTERS': ['character', 'characters', 'Arthur Fleck', 'Murray Franklin', 'Sophie Dumond', 'Penny Fleck', 'mother', 'mum'],\n",
    "    'TALENT': ['actor', 'actress', 'actors', 'talent', 'director', 'Joaquin Phoenix', '#JoaquinPhoenix', 'Robert De Niro', 'Zazie Beetz', 'Frances Conroy', 'Todd Philips'],\n",
    "    'PLOT': ['plot', 'frame', 'scene', 'scenes'],\n",
    "    'TICKETS': ['ticket', 'tickets', 'presale'],\n",
    "    'SOUNDTRACK': ['music', 'song'],\n",
    "    'SPECIAL EFFECTS': ['FX', 'visual effects', 'graphics', 'postproduction'],\n",
    "    'COSTUME DESIGN': ['costum', 'costumes', 'costume designer'],\n",
    "    'HYPE': ['hype', 'hyyyype', 'amazing', 'awesome', 'desire', 'desires', 'premiere', 'Cant wait'],\n",
    "    'BOX OFFICE': ['box office'],\n",
    "    'REVIEWS': ['review', 'reviews'],\n",
    "    'TRAILER':['trailer', 'trailers']\n",
    "}"
   ]
  }
 ],
 "metadata": {
  "kernelspec": {
   "display_name": "Python3.8",
   "language": "python",
   "name": "python3.8"
  },
  "language_info": {
   "codemirror_mode": {
    "name": "ipython",
    "version": 3
   },
   "file_extension": ".py",
   "mimetype": "text/x-python",
   "name": "python",
   "nbconvert_exporter": "python",
   "pygments_lexer": "ipython3",
   "version": "3.8.0"
  }
 },
 "nbformat": 4,
 "nbformat_minor": 4
}
