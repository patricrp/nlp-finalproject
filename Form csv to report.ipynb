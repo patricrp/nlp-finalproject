{
 "cells": [
  {
   "cell_type": "code",
   "execution_count": 13,
   "metadata": {},
   "outputs": [],
   "source": [
    "import pandas as pd\n",
    "import re\n",
    "import spacy\n",
    "import plac\n",
    "from pathlib import Path\n",
    "from spacy.util import minibatch, compounding\n",
    "from __future__ import unicode_literals, print_function\n",
    "import csv\n",
    "import src.dataready as dataready\n",
    "import src.train as train"
   ]
  },
  {
   "cell_type": "code",
   "execution_count": 7,
   "metadata": {},
   "outputs": [],
   "source": [
    "df = pd.read_csv('src/data.csv',)"
   ]
  },
  {
   "cell_type": "code",
   "execution_count": 28,
   "metadata": {},
   "outputs": [],
   "source": [
    "with open('src/data.csv', 'r') as file:\n",
    "    rea = csv.reader(file,delimiter='\\t')\n",
    "    for row in rea:\n",
    "        print(row)"
   ]
  },
  {
   "cell_type": "code",
   "execution_count": 33,
   "metadata": {},
   "outputs": [
    {
     "data": {
      "text/plain": [
       "<csv.DictReader at 0x117266a60>"
      ]
     },
     "execution_count": 33,
     "metadata": {},
     "output_type": "execute_result"
    }
   ],
   "source": [
    "csv.DictReader(open('src/data.csv'))"
   ]
  },
  {
   "cell_type": "code",
   "execution_count": 34,
   "metadata": {},
   "outputs": [],
   "source": [
    "categories = {\n",
    "    'CHARACTERS': ['character', 'characters', 'Arthur Fleck', 'Murray Franklin', 'Sophie Dumond', 'Penny Fleck', 'mother', 'mum'],\n",
    "    'TALENT': ['actor', 'actress', 'actors', 'talent', 'director', 'Joaquin Phoenix', '#JoaquinPhoenix', 'Robert De Niro', 'Zazie Beetz', 'Frances Conroy', 'Todd Philips'],\n",
    "    'PLOT': ['plot', 'frame', 'scene', 'scenes'],\n",
    "    'TICKETS': ['ticket', 'tickets', 'presale'],\n",
    "    'SOUNDTRACK': ['music', 'song'],\n",
    "    'SPECIAL EFFECTS': ['FX', 'visual effects', 'graphics', 'postproduction'],\n",
    "    'COSTUME DESIGN': ['costum', 'costumes', 'costume designer'],\n",
    "    'HYPE': ['hype', 'hyyyype', 'amazing', 'awesome', 'desire', 'desires', 'premiere', 'Cant wait'],\n",
    "    'BOX OFFICE': ['box office'],\n",
    "    'REVIEWS': ['review', 'reviews'],\n",
    "    'TRAILER':['trailer', 'trailers']\n",
    "}"
   ]
  },
  {
   "cell_type": "code",
   "execution_count": null,
   "metadata": {},
   "outputs": [],
   "source": [
    "categ = pd.DataFrame(categories)\n",
    "categ.to_pkl"
   ]
  },
  {
   "cell_type": "code",
   "execution_count": 40,
   "metadata": {},
   "outputs": [],
   "source": [
    "import pickle\n",
    "# write python dict to a file\n",
    "\n",
    "output = open('myfile.pkl', 'wb')\n",
    "pickle.dump(categories, output)\n",
    "output.close()\n",
    "# read python dict back from the file\n",
    "pkl_file = open('myfile.pkl', 'rb')\n",
    "mydict2 = pickle.load(pkl_file)\n",
    "pkl_file.close()"
   ]
  },
  {
   "cell_type": "code",
   "execution_count": 42,
   "metadata": {},
   "outputs": [
    {
     "data": {
      "text/plain": [
       "dict"
      ]
     },
     "execution_count": 42,
     "metadata": {},
     "output_type": "execute_result"
    }
   ],
   "source": [
    "type(mydict2)"
   ]
  },
  {
   "cell_type": "code",
   "execution_count": null,
   "metadata": {},
   "outputs": [],
   "source": []
  }
 ],
 "metadata": {
  "kernelspec": {
   "display_name": "Python3.8",
   "language": "python",
   "name": "python3.8"
  },
  "language_info": {
   "codemirror_mode": {
    "name": "ipython",
    "version": 3
   },
   "file_extension": ".py",
   "mimetype": "text/x-python",
   "name": "python",
   "nbconvert_exporter": "python",
   "pygments_lexer": "ipython3",
   "version": "3.8.0"
  }
 },
 "nbformat": 4,
 "nbformat_minor": 4
}
