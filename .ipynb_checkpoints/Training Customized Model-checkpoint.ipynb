{
 "cells": [
  {
   "cell_type": "code",
   "execution_count": 16,
   "metadata": {},
   "outputs": [],
   "source": [
    "import pandas as pd\n",
    "import numpy as np\n",
    "import spacy\n",
    "import random\n",
    "import train\n",
    "import re\n",
    "from spacy.gold import GoldParse\n",
    "from spacy.scorer import Scorer"
   ]
  },
  {
   "cell_type": "markdown",
   "metadata": {},
   "source": [
    "# Cleaning Dataset"
   ]
  },
  {
   "cell_type": "code",
   "execution_count": 2,
   "metadata": {},
   "outputs": [],
   "source": [
    "df = pd.read_csv('input/#jokermovie.csv')"
   ]
  },
  {
   "cell_type": "code",
   "execution_count": 3,
   "metadata": {},
   "outputs": [],
   "source": [
    "dfText = df[['id', 'text']]"
   ]
  },
  {
   "cell_type": "code",
   "execution_count": 4,
   "metadata": {},
   "outputs": [
    {
     "data": {
      "text/html": [
       "<div>\n",
       "<style scoped>\n",
       "    .dataframe tbody tr th:only-of-type {\n",
       "        vertical-align: middle;\n",
       "    }\n",
       "\n",
       "    .dataframe tbody tr th {\n",
       "        vertical-align: top;\n",
       "    }\n",
       "\n",
       "    .dataframe thead th {\n",
       "        text-align: right;\n",
       "    }\n",
       "</style>\n",
       "<table border=\"1\" class=\"dataframe\">\n",
       "  <thead>\n",
       "    <tr style=\"text-align: right;\">\n",
       "      <th></th>\n",
       "      <th>id</th>\n",
       "      <th>text</th>\n",
       "    </tr>\n",
       "  </thead>\n",
       "  <tbody>\n",
       "    <tr>\n",
       "      <th>0</th>\n",
       "      <td>1180633752885743616</td>\n",
       "      <td>People at the cinema thinking they got the #Jo...</td>\n",
       "    </tr>\n",
       "    <tr>\n",
       "      <th>1</th>\n",
       "      <td>1180633751744913408</td>\n",
       "      <td>I have a new favorite joker @jokermovie #Joker...</td>\n",
       "    </tr>\n",
       "    <tr>\n",
       "      <th>2</th>\n",
       "      <td>1180633723932483584</td>\n",
       "      <td>⭐⭐⭐⭐⭐ Performance, what a movie #JokerMovie pi...</td>\n",
       "    </tr>\n",
       "    <tr>\n",
       "      <th>3</th>\n",
       "      <td>1180633642198077441</td>\n",
       "      <td>#JokerMovie was absolutely amazing and ended w...</td>\n",
       "    </tr>\n",
       "    <tr>\n",
       "      <th>4</th>\n",
       "      <td>1180633577693880321</td>\n",
       "      <td>I just want to give both Arthur Fleck and Gary...</td>\n",
       "    </tr>\n",
       "  </tbody>\n",
       "</table>\n",
       "</div>"
      ],
      "text/plain": [
       "                    id                                               text\n",
       "0  1180633752885743616  People at the cinema thinking they got the #Jo...\n",
       "1  1180633751744913408  I have a new favorite joker @jokermovie #Joker...\n",
       "2  1180633723932483584  ⭐⭐⭐⭐⭐ Performance, what a movie #JokerMovie pi...\n",
       "3  1180633642198077441  #JokerMovie was absolutely amazing and ended w...\n",
       "4  1180633577693880321  I just want to give both Arthur Fleck and Gary..."
      ]
     },
     "execution_count": 4,
     "metadata": {},
     "output_type": "execute_result"
    }
   ],
   "source": [
    "dfText.head()"
   ]
  },
  {
   "cell_type": "markdown",
   "metadata": {},
   "source": [
    "# Create Training Data\n",
    "Characters, Talent, plot, soundtrack, tickets, hype, movie"
   ]
  },
  {
   "cell_type": "code",
   "execution_count": 5,
   "metadata": {},
   "outputs": [],
   "source": [
    "categories = {\n",
    "    'CHARACTERS': ['character', 'characters', 'Arthur Fleck', 'Murray Franklin', 'Sophie Dumond', 'Penny Fleck', 'mother', 'mum'],\n",
    "    'TALENT': ['actor', 'actress', 'actors', 'talent', 'director', 'Joaquin Phoenix', '#JoaquinPhoenix', 'Robert De Niro', 'Zazie Beetz', 'Frances Conroy', 'Todd Philips'],\n",
    "    'PLOT': ['plot', 'frame', 'scene', 'scenes'],\n",
    "    'TICKETS': ['ticket', 'tickets', 'presale'],\n",
    "    'SOUNDTRACK': ['music', 'song'],\n",
    "    'SPECIAL EFFECTS': ['FX', 'visual effects', 'graphics', 'postproduction'],\n",
    "    'COSTUME DESIGN': ['costum', 'costumes', 'costume designer'],\n",
    "    'HYPE': ['hype', 'hyyyype', 'amazing', 'awesome', 'desire', 'desires', 'premiere', 'Cant wait'],\n",
    "    'BOX OFFICE': ['box office'],\n",
    "    'REVIEWS': ['review', 'reviews'],\n",
    "    'TRAILER':['trailer', 'trailers']\n",
    "}"
   ]
  },
  {
   "cell_type": "code",
   "execution_count": 6,
   "metadata": {},
   "outputs": [],
   "source": [
    "TRAINING_DATA = [\n",
    "    (\n",
    "        \"People at the cinema thinking they got the #JokerMovie  plot like: pic.twitter.com/FULbcu3SBj\",\n",
    "        {\"entities\": [(56, 60, \"PLOT\")]},),\n",
    "     (\n",
    "        \"I just want to give both Arthur Fleck and Gary a hug. #JokerMovie #Joker #JokerFilm\",\n",
    "        {\"entities\": [(25, 37, \"CHARACTERS\")]},\n",
    "    ),\n",
    "    \n",
    "    (\n",
    "        \"These 3 actors BETTER get nominated or even win an Oscar. #AvengersEndgame #JokerMovie #ITChapterTwopic.twitter.com/Sd9Ele81wz\",\n",
    "        {\"entities\": [(8, 14, \"TALENT\")]},\n",
    "    )\n",
    "    ]"
   ]
  },
  {
   "cell_type": "code",
   "execution_count": 7,
   "metadata": {},
   "outputs": [
    {
     "name": "stdout",
     "output_type": "stream",
     "text": [
      "[('People at the cinema thinking they got the #JokerMovie  plot like: pic.twitter.com/FULbcu3SBj', {'entities': [(56, 60, 'PLOT')]}), ('I have a new favorite joker @jokermovie #JokerMovie pic.twitter.com/S4wOE3lmQF', {'entities': []}), ('⭐⭐⭐⭐⭐ Performance, what a movie #JokerMovie pic.twitter.com/vGun5i7WPW', {'entities': []}), (\"#JokerMovie was absolutely amazing and ended with a BANG!!! \\n\\nA must watch if you're a comic book fan. \\n#Joker #MustWatchpic.twitter.com/idTvidHpbE\", {'entities': [(27, 34, 'HYPE')]}), ('I just want to give both Arthur Fleck and Gary a hug. #JokerMovie #Joker #JokerFilm', {'entities': [(25, 37, 'CHARACTERS')]}), ('These 3 actors BETTER get nominated or even win an Oscar. #AvengersEndgame #JokerMovie #ITChapterTwopic.twitter.com/Sd9Ele81wz', {'entities': [(8, 13, 'TALENT')]}), ('To me the revelation of #JokerMovie is Todd Philips who we all know for making comedies like Hangover. There are obvious tributes to Scorsese but this is very dark, unsettling and tight- I can’t really think of any parts where film dragged', {'entities': [(39, 51, 'TALENT')]}), ('And the Oscar goes to ... #JoaquinPhoenix!\\nGenius Performance 👏🏼👏🏼👏🏼👏🏼\\n\\n#Joker #JokerMovie', {'entities': [(26, 41, 'TALENT')]}), ('I’m going to see #JokerMovie tomorrow after work since I have to stay at the theatre later when I get off and there’s nothing else showing around the time I get off so I’m a bit nervous seeing this movie but I’m sure it’ll be good to see.', {'entities': []}), ('My reaction after seeing #JokerMovie is happiness because of sounstrack great directing acting and confirming how bad superficial cruel people are I choose kindness empathy always pic.twitter.com/RPHgTWEO5i', {'entities': []}), ('#JokerMovie is pure class. best film ive seen in a long time..🤡🤡🤡', {'entities': []}), (\"Reposting @tycq_x:\\nPut on a Happy Face 🤡\\nIt's the day of the premiere so here is the last Joker collab w/ @rickandmorty  by @tycq_x .\\n.\\n.\\n.\\n.\\n#joker #dccomics #dc #batman #rickandmorty #ricksanchez #adultswim #jokermovie #jokerfanart #illustration #art #dailyart #fanartpic.twitter.com/wCzxbB6HEo\", {'entities': [(61, 69, 'HYPE')]}), ('I just saw #JokerMovie \\n\\nDid your theatre have armed security like mine did?\\n(Guard said \"I\\'m here cuz of the Joker movie)', {'entities': []}), ('@jokermovie I walked these steps in the Bronx so many times. Oh how differently I see things now. #JokerMovie #JokerFilmpic.twitter.com/IraksEuDHf', {'entities': []}), ('Wow. #JokerMovie was so gruesome but true to the character. Can Christopher Nolan call Bale up and finish the #Joker storyline now. I’d pay thru the roof to see that. #Joker', {'entities': [(49, 58, 'CHARACTERS')]}), ('#JokerMovie \"Why so serious?\" Because there is not one thing funny about this film outside of Joaquin\\'s creepy laugh. It will have you \"on the edge of your seat\" gasping like \"Oh shit!\" regularly. But you\\'ve been warned by this thread. Spread the word.Please #TheJoker #JokerMovie', {'entities': []}), ('#JokerMovie This film is not for the following:\\n\\n- Children under 18\\n\\n- Those who suffer from suicidal ideation. It will be triggering.\\n\\n- Possibly those who have dealt with family members struggling with suicidal thoughts.', {'entities': []}), (\"#JokerMovie It shows how everyone - society, the system, bad parenting, & entertainment - are to blame for the mental health epidemic. Outside of maybe a few scenes, I felt no sympathy for The Joker. Like many with emotional struggles, he isn't the only one who had a hand in it.\", {'entities': [(158, 163, 'PLOT')]}), ('#JokerMovie As well-written and performed as it is, this film is graphically violent and psychologically disturbing telling the dark tale of what happens when mental illness is not addressed.', {'entities': []}), ('#JokerMovie A thread. This film has left me with lingering, startling images 24 hours after seeing it. Yes, Joaquin Phoenix can take the bloody joker crown. But... pic.twitter.com/T5MaDZwUqp', {'entities': [(108, 123, 'TALENT')]}), (\"#ComicBooks #Superheroes #Batgirl #Joker #JokerMovie \\n\\nI also have to say, upon thinking about it,\\nthat I really don't want to see #TheKillingJoke in live action.\\n\\nI just really don't.pic.twitter.com/kZ8CjwCz0X\", {'entities': []}), ('I Did The Beyoncé Countdown “Booooy” Run.   😩🤪💖 #CivilWar2 #CivilWarPotLuck #ARSD #TheGiftLaban #Inktober2019 #MusicMonday #JokerMovie pic.twitter.com/igLIRAIswh', {'entities': []}), (\"I can't wait for date night!!!!!!! Thanks @ree.la_07 Queen Booboo!!\\n#HealthisWealth #PleasureIsTreasure #jokermovie\\n#PureHappiness  #DangDang\\n#NewLight  #Blessed #Dointhemost #TeamBooBoo #BestLife #positivevibes #Soberlife #ReeLa #relationshipgoals https://ift.tt/2nXHEW6\\xa0pic.twitter.com/h1JwEp5vuu\", {'entities': []}), ('This week all about the #JokerMovie my review goes up Thursday night pic.twitter.com/HMlpyIDSRe', {'entities': [(39, 45, 'REVIEWS')]}), ('To prepare for #JokerMovie I watched The King of Comedy. Now I have to go back and listen to the Moroso voicemail @kirkminshow episode so I can better get the references @kirkmin and @BlindMike_ make.', {'entities': []}), (\"Ahead of Friday's release, #JoaquinPhoenix tells us why #JokerMovie is going to be a hit https://www.theloop.ca/watch/entertainment/movies/joaquin-phoenix-shares-why-joker-is-going-to-be-a-hit/6090782515001/6090345560001/etalk\\xa0…\", {'entities': [(27, 42, 'TALENT')]}), (\"Look, I'm actually pretty interested about that upcoming #JokerMovie thing but for the love of God, the more ya'll keep screaming at me it might cause shootings or something, the more I think you guys need to get off your keyboards and go talk to somebody not on social media ffs\", {'entities': []}), ('Was an amazing season. I wonder if Disney can top it. Looking forward to your #JokerMovie review :D', {'entities': [(7, 14, 'HYPE')]}), ('Joker week starts todau.\\n\\n#Joker\\n#jokermovie https://www.instagram.com/p/B3DdgALgSz_/?igshid=1wu9ie7oz3dsa\\xa0…', {'entities': []}), ('Saw a dude dressed up as the Joker riding a motorcycle on my way home from work today. I couldn’t help but smile because we all know what week it is, fam! #JokerMovie', {'entities': []}), (\"Today's update on @jokermovie boycott. We will add @warnerbros to deniro. Interviewers were banned from the red carpet event. Why is LAPD increasing visibility & presence for #JokerMovie ? Should we be scared?\", {'entities': []}), ('War Dogs @jokermovie @TheTopComics #JokerMovie', {'entities': []}), ('WE ARE LIVE — Tune in and join the conversation! #DBLtake \\n\\nJoaquin Phoenix lost 52 pounds to play the Joker. Will you see the #JokerMovie?\\n\\nhttps://www.pscp.tv/w/1YqGodnWjMEJv\\xa0', {'entities': [(60, 75, 'TALENT')]}), ('Which Is Your Most Anticipated October Release?\\n\\nComment Unavailable Choices\\n\\n#JokerMovie #TheAddamsFamily #GeminiMan #JexiMovie #JayAndSilentBobReboot #MaleficentMistressOfEvil #ZombielandDoubleTap #BlackAndBlueMovie', {'entities': []}), ('Got my ticket for #JokerMovie in #IMAX this Friday. Can’t wait. I’ve been changing the channel or leaving the room every time I hear the trailer music on TV. #NoSpoilers #DCComicspic.twitter.com/vXuLdejIBn', {'entities': [(7, 13, 'TICKETS')]}), ('Connor is getting ready for his stand in for #jokermovie mrsfitz318 #whysoserious #funny https://www.instagram.com/p/B3DbvVNA5oS/?igshid=1n50n6dfyc03w\\xa0…', {'entities': []}), ('Can’t wait to see JOKER\\n\\n#JokerMovie pic.twitter.com/OAsQbwbaZw', {'entities': []}), ('Who wanna go see the Joker movie this weekend ? #JokerMovie', {'entities': []}), ('VERY excited for #JokerMovie \\n\\nCount up your sins! pic.twitter.com/vf2rfJezkM', {'entities': []}), ('I can’t wait to see #JokerMovie like I’ve waited for more than three months for this to happen', {'entities': []}), ('Heath Ledger RIP to that wonder man😊🤗and Joaquin Phoenix #jokermovie and Mark Hamill❤💯🔥', {'entities': [(41, 56, 'TALENT')]}), ('JOKER: Trailer Review (No Spoilers) in anticipation of the new Joker movie being released Oct. 4. See Review: https://www.youtube.com/watch?time_continue=1&v=zESxSUFmCso\\xa0… \\n#joker #JokerMovie #JoaquinPhoenix #JokerMovieContestpic.twitter.com/mt3yqKvk7a', {'entities': [(192, 207, 'TALENT')]}), ('#Joker #jokerpremiere #jokertrailer #JOKERmovie is Coming #Soon SOON #TrendingNow #live #akhalid ###Trending 😲😲😲https://link.kikitime.com/post/b729f0bb-2887-442b-aa4d-c050b45bfd48\\xa0…', {'entities': [(13, 21, 'HYPE')]}), (\"are u talkin' to #JoaquinPhoenix ?\\n#JokerMovie https://twitter.com/HIDEO_KOJIMA_EN/status/1177839219575705600\\xa0…\", {'entities': [(17, 32, 'TALENT')]}), ('Fan art inspired by @jokermovie. I was having some \"colada morada\" and decided to play around with it... hope you like it!\\n\\n#JokerMovie\\n#FanArt\\n#ColadaMorada\\n#WarnerBros \\n#DCComics \\n#Joker \\n#Batmanpic.twitter.com/C1mT62oZLB', {'entities': []}), ('3 more days 🤡\\n#JokerMovie', {'entities': []}), ('All ready to watch tonight #BoxOfficebreakdown @happygojackie @amycassandramtz they talk about #AbominableMovie box office how much #JokerMovie going to make at the box office next weekend', {'entities': [(112, 122, 'BOX OFFICE')]}), ('artist: #DenverBalbaboco \\n#JokerMovie #jokerpic.twitter.com/7CfdaBWnKr', {'entities': []}), ('October is almost here. Joker 🃏 is coming! Got my tickets gonna dance into the theater like this. #Joker #jokermovie #jokerfilm toddphillips1 #dccomics #joaquinphoenix #comicbooks #comicbookart #illustration #batman https://www.instagram.com/p/B3A2zVFB-jK/?igshid=19mx14i4i2o7e\\xa0…', {'entities': [(50, 56, 'TICKETS')]}), (\"Upset the established order, and everything becomes chaos. Todd Phillips is an agent of chaos. Oh, and you know the thing about chaos? It's fair! Fuck the bloggers... Fuck the critics... Fuck em. Can't wait! #Joker #JokerMovie #DoubleStandardspic.twitter.com/VIYMRAXb51\", {'entities': []}), ('I live in Canada and haven’t heard anything. I go too the movies often. We never needed security over a movie. I cannot believe all the BS around the #JokerMovie. I have 3 tickets don’t feel worried about seeing #Joker.', {'entities': [(172, 178, 'TICKETS')]}), ('EXCLUSIVE! interviews at the \"Joker\" World Premiere Joaquin Phoenix & cast! https://youtu.be/qozwerngX6s\\xa0  @JoaquinPhoenix #jokerredcarpet #jokerpremiere #jokerfilm #JoaquinPhoenix \\n#jokermovie', {'entities': [(52, 67, 'TALENT')]}), ('This weeks episode is now available talking all about #TheJoker to prepare you for #JokerMovie next week! We chat origins, first appearance, first memory and more with @Incognito_Comic \\n\\n#DCComics #Thejokermovie \\n\\nhttps://omny.fm/shows/shaken-not-nerd/history-of-the-joker-w-aus-from-incognito-comics\\xa0…pic.twitter.com/989sLYDlYb', {'entities': []}), ('JOKER – Final Trailer – Warner Bros. #Joker #JokerMovie https://www.youtube.com/watch?v=xRjvmVaFHkk\\xa0…', {'entities': []}), (\"To those on the left (and @FBI & @USArmy) warning that the #JokerMovie might prompt emotionally disturbed viewers to shoot people, a reminder that one of the only times that actually happened was Schindler's List. Should Holocaust films have warnings too? \\nhttps://www.latimes.com/archives/la-xpm-1994-02-08-mn-20485-story.html\\xa0…\", {'entities': []}), ('Hey @JimVejvoda, did you see your quote for @jokermovie? 😊\\n\\n#Joker #JokerMovie #JokerPremiere 👇https://twitter.com/jokermovie/status/1178429242662473728\\xa0…', {'entities': []}), ('\"Joaquin Phoenix\\'s performance is so good it\\'s almost supernatural\" Check our #JokerMovie Review #Weareallclowns @Roadshowfilms https://spotlightreport.net/featured/joker-movie-review\\xa0…pic.twitter.com/g5V8q623lk', {'entities': [(1, 16, 'TALENT')]}), ('#JokerMovie when customers call to ask about your security levels.\\nUgh', {'entities': []}), ('#BigMouth Season 3 comes out on Friday and so does #JokerMovie what one do I watch first and how do I cancel all my weekend plans?! #Adulting', {'entities': []}), ('Been trying to watch that since last week. But probably gonna have to wait cuz #JokerMovie is this week!!!!', {'entities': []}), (\"This goes to all the people who are criticizing the #JokerMovie: I'm sorry you've been bullied your whole lives.\", {'entities': []}), ('#jokermovie @ SilverCity Polo Park IMAX Theater https://www.instagram.com/p/B3IpgzAAUoK/?igshid=5qtfcaa8kz6c\\xa0…', {'entities': []}), ('As goes for The joker movie , Heath ledger’s (rip) and Joaquin Phoenix’s character aren’t suppose to be the same joker , understand that before rating any comic book movie #JokerMovie', {'entities': [(73, 82, 'CHARACTERS')]}), ('I was REALLY looking forward to doing nothing this weekend. Just realized #JokerMovie is out this week pic.twitter.com/1Y8MYNirWs', {'entities': []}), ('how y’all think that #JokerMovie going to be? I want to see it myself', {'entities': []}), ('Hey clowns. Like IPAs? Snag a Trickster IPA from @GreenManBrewing at The Springs and get a free pint glass! See you this weekend for the #JokerMovie starring #JoaquinPhoenix. 🤡pic.twitter.com/3RU3u383BB', {'entities': [(158, 173, 'TALENT')]}), ('I cannot wait to watch #JokerMovie on saturday its gunna be so good 😁 pic.twitter.com/EYQhw5UBLd', {'entities': []}), ('put on a happy face #JokerMovie #Joker #JoaquinPhoenix #FilmTwitterpic.twitter.com/Naf779Hj8Y', {'entities': [(39, 54, 'TALENT')]}), (\"If Joaquin Phoenix doesn't get an Oscar for his role in Joker, then the film industry haven't a clue what outstanding acting is. #Joker #JokerMovie #JoaquinPhoenix\", {'entities': [(3, 18, 'TALENT')]}), ('So three awesome movies are coming out soon which I cannot wait for. #ElCaminoABreakingBadMovie, #Joker #JokerMovie & #TerminatorDarkFate. \\n\\nReally looking forward to these movies.', {'entities': [(9, 16, 'HYPE')]}), ('#jokermovie jokermovie #screening https://www.instagram.com/p/B3IopVlAZnA/?igshid=1on4hoohdvp4e\\xa0…', {'entities': []}), ('I’m excited of this MASTERPIECE! #JokerMovie', {'entities': []}), ('Happy #JokerMovie release day', {'entities': []}), ('I’ve already reserved my ticket to see the #JokerMovie this weekend. Since I’m Asian, no one was worried about me being inspired to shoot up the theater, or that I’m ANY kind of threat at all. #SadBecauseItsTrue', {'entities': [(25, 31, 'TICKETS')]}), (\"Fantastic 🔥🔥\\n#Joker #jokermovie  #JokerReview \\n one of the greatest piece of cinema  It's bold, dark, iconic, extraordinary . Joaquin gave the performance of a lifetime. A pure gem. And that climax was GOAT .Dear @TheAcademy  take a chill pill and give him the award\", {'entities': []}), ('This week the @geeknerdtangent discussed violence and video games. With the controversy surrounding the #JokerMovie Hope people will see fact from fiction. Hopefully the #thejoker will be a flawless victory at the #boxoffice though.', {'entities': []}), (\"Joker movie review: No one's laughing in this bleak Batman spin-off http://JOKERDIRECTORSCUT.vuhere.com\\xa0 #trump #starwars #jokermovie #joker #batwomanTheRiseOfSkywalkerSweepstakes #theriseofskywalker #CountdownToHalloweenpic.twitter.com/JUKOWaoGjJ\", {'entities': [(12, 18, 'REVIEWS')]}), ('Seeing an early screening of Joker.\\n#JokerMovie #DCUNIVERSE #IMAXpic.twitter.com/vmzCvtgf6F', {'entities': []}), ('We about to see jokermovie I cant wait to see to see the joker. I will Give yall the review later. @Recklessbarry20  #jokermovie #dcuniverse thedcuniverse #imax @IMAX @hits973 https://www.instagram.com/p/B3IoKufh9dw/?igshid=3d3v1nbc0mir\\xa0…', {'entities': [(85, 91, 'REVIEWS')]}), ('I cant stop thinking about #JokerMovie pic.twitter.com/dWr0CmD735', {'entities': []}), ('Who would go see a violent, scary #movie like #JokerMovie @jokermovie and why are #films like this produced? It can encourage violence.  #BanViolentFilms  #RememberAurora  We need more uplifting films like @MrRogersMovie @tomhanks', {'entities': []}), ('Have you got your tickets yet? #Joker #JokerMovie pic.twitter.com/v4kM6y9FEC', {'entities': [(18, 24, 'TICKETS')]}), ('#Guason #nosapasiona #JokerMovie\\n ales13fm@gmail.com pic.twitter.com/5QPbZSL32d', {'entities': []}), ('This guy is seriously sick in the head if he thinks a gentleman gamer such as myself would commit such a heinous crime at the premiere of the slow burn character driven drama #JokerMovie', {'entities': [(152, 161, 'CHARACTERS')]}), ('Sounds about right #joker #thejoker #jokermovie \\nhttps://cosmicbook.news/joker-director-blames-far-left\\xa0…', {'entities': [(79, 87, 'TALENT')]}), ('Put on a happy face. #jokermovie #quicksketch #ink https://www.instagram.com/p/B25LCgjhVf8/?igshid=1hw52rmwudtek\\xa0…', {'entities': []}), ('#JokerMovie is estimated to have $100 Million Box office in the opening weekend. Buy $T stock before it is too late.https://twitter.com/jokermovie/status/1177251484213231618\\xa0…', {'entities': []}), ('2 Things: 1. I just purchased this 13” x 19” Exclusive numbered art print from JOKER at the Regal Rewards Center 2. I just got 2 Tickets for my bro and I to see the film Next Thursday at 4PM at Cinépolis!!!! #JokerMovie 🎥🤡 pic.twitter.com/dk3xEC3dxe', {'entities': []}), ('So supposedly The Joker movie is a threat to National Security, but John Wick and NWA are ok. 🤷🏾\\u200d♂️🤦🏾\\u200d♂️\\n\\n#JokerMovie #DCComics #Joker #Batman #JohnWick #NWA', {'entities': []}), ('I totally forgot that #JokerMovie comes out next weekend! I cant wait to see! pic.twitter.com/6661JuTfBv', {'entities': []}), ('I wonder if the #JokerMovie controversy is all manufactured by Warner Brothers to sell more tickets on opening weekend.', {'entities': [(92, 98, 'TICKETS')]}), ('Open bookings in #Hyderabad for #JokerMovie @warnerbrosindia', {'entities': []}), ('You think when someone bumps into Joaquin Phoenix he shouts “Hey! I’m Joaquin here!” #JokerMovie', {'entities': [(34, 49, 'TALENT')]}), ('Finna go to the new #JokerMovie just to say \"FUCK Batman\" at the screen and leave.', {'entities': []}), (\"Some people might say this about the movie 'The Joker' (2019). | #JokerMovie\", {'entities': []}), ('#JokerMovie producer defends movie for holding ‘mirror to our society’: https://nypost.com/2019/09/26/joker-producer-defends-movie-for-holding-mirror-to-our-society/\\xa0…', {'entities': []}), ('Do people actually care about the #JokerMovie  being violent? Or is it just media blowing smoke because everyone I know talk about it is just excited', {'entities': []}), ('I hope #JokerMovie is massively successful. And is regarded as the best movie of the year just to stick it to these butthurt SJWs. https://twitter.com/WillamKelley/status/1177351083334733825\\xa0…', {'entities': []}), ('One week. #JokerMovie pic.twitter.com/tM9yOoZDFo', {'entities': []}), ('Was really excited to go see #JokerMovie on my birthday. Now, some fucking incels have ruined my good time.\\n\\nIt was LITERALLY my only birthday plan.', {'entities': []}), ('Highly recommend #JokerMovie 👍 pic.twitter.com/oBhxmeQWvf', {'entities': []}), ('After seeing this I really urge people to LEAVE PEOPLE TF ALONE WHEN THEY NOT CAUSING ANY HARM #JokerMovie', {'entities': []}), ('#inktober2019 Day 4: The King of Comedy. \\nI love this oddball  #Scorcese movie and have heard this dark and gritty #JokerMovie borrows a lot from it. pic.twitter.com/fgfoyWqK4w', {'entities': []}), (\"#JokerMovie is incredible. Joaquin Phoenix played Joker in such a different way to anyone before him and it helped make this a comic film unlike any I've seen before.\", {'entities': [(27, 42, 'TALENT')]}), (\"saw the #JokerMovie very well-written  directed, and acted by Joaquin Phoenix. He should get an #Oscars2020 nod. \\n\\nIt's definitely told from the villain perspective and puts a twist on the Bruce Wayne origin story. #joker is not yet fully evil  but he's got about 15 years or so\", {'entities': [(62, 77, 'TALENT')]}), (\"On the way to see #JokerMovie hope it's what everyone been saying it is. pic.twitter.com/vkXLix6paH\", {'entities': []}), ('I rated #JokerMovie 9\\\\10', {'entities': []}), ('All I can say is WOW! Joaquin Phoenix was brilliant! The #JokerMovie is brilliant! 🤡', {'entities': [(22, 37, 'TALENT')]}), (\"Watchin'\\nJoker @jokermovie\\n🤡🤡🤡🤡🤡🤡🤡🤡\\n🎬🎞️🎬🎞️🎬🎞️🎬🎞️\\n\\n#Joker #JokerMovie #JokerFilm #Joker2019 #Jokerthemovie #JoaquinPhoenix #ArthurFleck #DC #Batman #arkhamasylum #Gotham #ThomasWayne #BruceWayne #DC #DCUNIVERSE #DCComics #HarleyQuinn #TheJoker #movienight #Moviepic.twitter.com/AWchNX8Avu\", {'entities': [(106, 121, 'TALENT')]}), ('AMAZING! #JokerMovie #JoaquinPhoenix #RobertDeNiro #Joker #gotham #newyork #nycpic.twitter.com/rQn773knHG', {'entities': [(21, 36, 'TALENT')]}), ('Video is live! please like and share!Drawing Joker Like a Printer #JokerMovie #joker  https://youtu.be/Xqwewmuf4lU\\xa0 via @YouTube', {'entities': []}), ('So I watched the #JokerMovie today and I have to say \\n\\n  “that’s what I call tuesdays”', {'entities': []}), ('#JokerMovie is much ado about nothing. Mediocre film, not even controversial. Also, Heath Ledger is the the only Joker.', {'entities': []}), ('Absolutely stunning  #JokerMovie', {'entities': []}), ('The #JokerMovie was one big bowl of movie magic pic.twitter.com/Jm2TH0UoI5', {'entities': []}), (\"#JokerMovie the last moments honestly gave me biggest chills I've ever had from a movie pic.twitter.com/n0ATui8Ph5\", {'entities': []}), ('Put on a happy face\\n\\n@jokermovie \\n\\n#Joker #JokerMovie #JoaquinPhoenixpic.twitter.com/F6qjoDAVrf', {'entities': [(54, 69, 'TALENT')]}), ('#JokerMovie was awesome.  A great blackpill Movie.  10 out of 10 for me.', {'entities': [(16, 23, 'HYPE')]}), ('#JokerMovie ,\" You Get What You Deserve\" pic.twitter.com/lzXU5eijNO', {'entities': []}), ('Happy #NationalSmileDay 🃏 \\n\\nHAHAHAHAHAHAHA... HAHA.... HAHAHA #JokerMovie pic.twitter.com/zJQ8y7g2vi', {'entities': []}), ('Halftone comic style drawing\\n#joker #manga #comics #jokermovie #drawingpic.twitter.com/hwyhSdLYM7', {'entities': []}), ('@JoaqPhoenix I am HUGE #JokerFan So Excited For @jokermovie #JokerMovie pic.twitter.com/LnfPBKlatU', {'entities': []}), ('HAHAHAHAHAHAHA\\n🦇😳\\n@IGN @nerdist @CBR @ComicBook @ComicBookNOW \\n#batman #batmanandrobin #jasontodd #joker #harleyquinn #jokerfilm #jokermovie #jokeredit #jokerandharleyquinn #redhoodfanseries #redhood #filmmaking #youtube #DCcomicspic.twitter.com/a2zrIEYM0R', {'entities': []}), ('Are any artists standing up for #JokerMovie?', {'entities': []}), ('I sat down with Joaquin Phoenix & Todd Phillips to discuss JOKER.\\n\\nPhoenix talked:\\n\\n- Being bullied at a young age\\n- Logistics of the steps dance\\n- Safely losing 52 pounds\\n\\nPhillips & I talked about the filmmaking & “handmade” style.\\n\\nVIDEO: https://youtu.be/f-WRJfmuG5U\\xa0 #JokerMovie', {'entities': [(16, 31, 'TALENT')]}), ('Started my day with a #jokermovie #morningsketch 🎨\\n\\n#dc23art #traditionalart #penbrush #dccomics #comics #joker #donsuratospic.twitter.com/KJOEUoxbWU', {'entities': []}), ('Less than a week until I see @jokermovie!! #JokerMovie', {'entities': []}), ('\"A lot has been said about JOKER and we just feel it\\'s time for people to see the film.\" Bold move @wbpictures, and the absolute right one. Can\\'t wait for people to actually SEE this movie, instead of just talking shit about what it is and isn\\'t. #Joker #JokerMovie https://twitter.com/Variety/status/1177675994913656832\\xa0…', {'entities': []}), ('Joker movie next weekend getting those imax tickets \\n\\n#JokerMovie', {'entities': [(44, 50, 'TICKETS')]}), ('#JokerMovie Oh yeah.We live in a society.', {'entities': []}), ('Shit I need buy my ticket for #JokerMovie before they sale out opening weekend', {'entities': [(19, 25, 'TICKETS')]}), ('If #JoaquinPhoenix wins an #Oscar, will that make #Joker the most award winning character in film history, considering that #HeathLedger earned one for his performance in #TheDarkKnight?\\n#JokerMovie #JokerFilm #DCEU #AcademyAwards #Movies #Film #ToddPhillips #DC #Batman', {'entities': [(80, 89, 'CHARACTERS')]}), ('Wasn\\'t really sure what to expect from #JokerMovie but the montage where he tries on all the different facepaint styles like Bozo, Emmett Kelly, and The Crow makeup was worth the price of the popcorn for sure. Plus you don\\'t hear \"All Star\" on enough soundtracks these days.', {'entities': []}), ('Next Friday everybody be seeing the #JokerMovie while I’m seeing it on Thursday pic.twitter.com/OhwJSuFjSY', {'entities': []}), ('Arthur Fleck\\n-\\n#JokerMovie #Joker #dccomics #JoaquinPhoenixpic.twitter.com/OCBL4x6ppY', {'entities': [(0, 12, 'CHARACTERS')]}), (\"Hang on... #JokerMovie \\nshouldn't exist? This movie is going be awful?\\nThis is where I have to remind everyone that the views of some members of @SoWizardPodcast does not reflect the views & opinions of all the cohost.\\nOh we might debating at #NYCC2019https://youtu.be/2ch_rn60BlU\\xa0\", {'entities': []}), ('Joker 🤡\\n-\\n#JokerMovie #Joker #dccomics #JoaquinPhoenixpic.twitter.com/YzpeC9uqDU', {'entities': [(39, 54, 'TALENT')]}), (\"“Joaquin Phoenix is astonishing.” Experience #JokerMovie on the state's largest screen beginning October 3rd. Tickets are on sale now! http://ow.ly/aJeK30pARqK\\xa0 #Jokerpic.twitter.com/jHfQEcrP6N\", {'entities': [(1, 16, 'TALENT')]}), ('Review: In #JokerMovie, Joaquin Phoenix gives the most frightening portrayal of a maniac in decades. via @MickLaSalle https://trib.al/K4kgL98\\xa0pic.twitter.com/IhLSS9uZ2X', {'entities': [(24, 39, 'TALENT')]}), ('You know, combine the #JokerMovie with @WuTangOnHulu, you’ve got a pretty solid #MartinShkreli biopic 🤔', {'entities': []}), ('Tonight’s presentation. #JokerMovie @jokermoviepic.twitter.com/Iym6dwbDgI', {'entities': []}), ('Tonight’s screening for #JokerMovie has one of the longest lines I’ve seen at a press/public screening. This advance look at #JokerFilm is getting a rare four screens @AMCTheatres. It opens this Friday. Look for my review on Thursday.pic.twitter.com/3KAphtFxlJ – en AMC Barton Creek Square 14', {'entities': [(215, 221, 'REVIEWS')]}), ('So proud of the students in Hong Kong. #TuesdayThoughts #TuesdayMorning #TuesdayMotivation #tuesdayvibes #TuesdayTrivia #TacoTuesday #October1st #October #October2019 #JokerMovie #Joker #JokerWeek #HongKongProtests #HongKongHumanRightsandDemocracyAct #hongkongpolicebrutalityhttps://twitter.com/nytimes/status/1179044588285243394\\xa0…', {'entities': []}), ('Batman NES Walkthrough \\nhttps://youtu.be/cQQ5U0gDDLI\\xa0\\n#longlivethebat #birdsofprey #jokerReturn #twitchcon #joker #jokermovie #MexicanJoker #LongLiveTheBat #Batman80 #birdsofprey #BirdsofPreyAndtheFantabulousEmancipationofOneHarleyQuinn #batmanxfortnite  #DCBatman #twitchcon19 #avgn', {'entities': []}), ('Well. Here goes nothing. Let’s see what all the fuss is about. #JokerMovie pic.twitter.com/RJEEXkQaXK', {'entities': []}), ('Time for my #JokerMovie screening, finally about to see how I feel about the latest controversial film.', {'entities': []}), (\"It's not released in my city,  so unlucky #JokerMovie 😭😭\", {'entities': []}), ('So excited to advance screen @jokermovie  Who is seeing it on opening day? \\n@TheDCUniverse \\n#jokermovie #dcuniverse #inaxpic.twitter.com/AITqF9KqZV – en AMC NorthPark 15', {'entities': []}), ('EXCLU: #JokerMovie worries have @NYPDnews putting plain clothed cops in NYC theaters for opening weekend #Jokerhttps://deadline.com/2019/10/joker-movie-theaters-new-york-police-plan-opening-weekend-undercover-1202749565/\\xa0…', {'entities': []}), ('\"Aspiration\". Took two screencaps from @jokermovie and created a banner #Joker #JokerWeek #JokerMovie #JokerMovieContest #DC #DCComics #Elseworlds #JoaquinPhoenix #Gotham #Batman #TheBatman #ToddPhillips #FanArtpic.twitter.com/2cUOCfiLID', {'entities': [(147, 162, 'TALENT')]}), ('Time for #JokerMovie screening!! Can’t wait to see which side of the opinion fence I’m gonna fall on!!', {'entities': []}), ('Jesus, kids. Just watch Scorsese’s #kingofcomedy and leave #JokerMovie to the sleeping bros who are about to try stand up comedy. https://twitter.com/ThePlaylist/status/1179065198499393536\\xa0…', {'entities': []}), ('The first time I’ve been excited to see a movie in a long time...Review will be coming soon!\\n\\n#jokermovie #jokerpic.twitter.com/N4hZE3jcZX', {'entities': []}), ('I. AM. SO. PUMPED for this one. 🔥#JokerMovie 🤡 pic.twitter.com/Yv1vrIDouD', {'entities': []}), ('Alright, #JokerMovie time! @JokerMovie @thedcuniverse #DCUniverse @IMAX #imaxpic.twitter.com/9fUMK0qUVw', {'entities': []}), (\"Is it weird that I really don't wanna see #JokerMovie ? I know I'll end up seeing it, but I'm really not interested.\", {'entities': []}), ('At this point if I get murdered at a screening of the #JokerMovie I’d probably be like yeah, I guess I deserved that.', {'entities': []}), ('Let’s see what all the fuss is about! #JokerMovie pic.twitter.com/zwRI8EIsZn', {'entities': []}), ('Movie Screening!!! JOKER\\n\\njokermovie\\n#jokermovie https://www.instagram.com/p/B3GDrYZgsD0-e57Wf5QUkGEV8jC7HTosj1pkWo0/?igshid=sb60z3u2igg7\\xa0…', {'entities': []}), (\"Screening time... Can't wait for it to start #JokerMovie https://www.instagram.com/p/B3GDoRPgOFw/?igshid=1id853xqo4pv2\\xa0…\", {'entities': []}), ('I’ve seen #JokerMovie and finally wanted to post my thoughts in a single tweet. 👍🏼 thank you for the feedback. 😊', {'entities': []}), ('Folks, #JokerMovie doesn’t come out until next week, but here’s an early preview. https://twitter.com/FiteTV/status/1178089904439476224\\xa0…', {'entities': [(74, 80, 'REVIEWS')]}), ('Kudos too Todd Phillips. 👍🏻👏🏻👏🏻#JokerMovie', {'entities': []}), ('#JOKER #JOKERMOVIE #PARANORMAL\\n\\nWATCHING @huntingthedead \\n\\nHEATH LEDGER REACTION TO NEW JOKER MOVIE AND JOAQUIN PHOENIX! SPIRIT BOX!!\\n\\nALL THE FAMS GO WATCH LIKE SUBSCRIBE SMASH THAT LIKE BUTTON GO SHARE OUT. GO SHOW MASSIVE FAM LOVE RESPECT POSITIVITY 2 @huntingthedead', {'entities': []}), (\"Lmfao silly I'm seeing #JokerMovie tomorrow won in a contest on the radio. But can't bring my phone and have to sign a contract to.\", {'entities': []}), ('My movies reviews come back this week with The #JokerMovie', {'entities': [(10, 16, 'REVIEWS')]}), (\"Have you had your #MMO #Today?  You're not gonna want to miss this one.  With #JoaquinPhoenix's #JokerMovie just a week away, we go deep into the most classic portrayal of #Joker thus far...https://soundcloud.com/mikemikeandoscar/ep246-mmojoker6-heathledger\\xa0…\", {'entities': [(78, 93, 'TALENT')]}), (\"Hey #SJWs if you keep trying to control art such as #JokerMovie and #DaveChappelle  sticks and stones. You're going to lose. The backlash is coming and ppl are going to go straight anti PC. #backlashiscoming\", {'entities': []}), ('what’s going on with godzilla vs. kong ? cause i’ve heard about the trailer coming before #JokerMovie \\n\\n#GodzillaMovie', {'entities': [(68, 75, 'TRAILER')]}), ('One recurring theme that I’ve discerned from the ‘discourse’ surrounding #JokerMovie is that almost nobody is allowing space for the movie to speak for itself. \\n\\nAnd the few who want to....are actively risking bad optics and strained relations in doing so. https://twitter.com/Variety/status/1177779965162602497\\xa0…', {'entities': []}), ('We live in an insane society! It is a fictional character people! I’m with the director here! This backlash is a ridiculous. #JokerMovie https://twitter.com/getFANDOM/status/1178081981428576256\\xa0…', {'entities': [(48, 57, 'CHARACTERS')]}), ('Yes I’m super excited about the @jokermovie and heath ledger will always be the best but let’s give big credit to Jack Nicholson he did a incredible job as the joker too 😁😄#JokerMovie #SaturdayThoughtspic.twitter.com/66NN2jbxUH', {'entities': []}), (\"So with what I won tomorrow I'm seeing the private screening of #JokerMovie pic.twitter.com/5mpEtGUXjk\", {'entities': []}), ('How come in like 300 ft from the #JokerMovie premiere but I’m not allowed in', {'entities': [(45, 53, 'HYPE')]}), ('For all the triggered people out there  #JokerMovie https://twitter.com/getFANDOM/status/1178081981428576256\\xa0…', {'entities': []}), ('Everyone at the Joker screening didn’t know whether to applaud at the end or not... it was an extremely dense and heavy film. So much to digest and analyze at the end... Again, bravo! #notyouraveragecomicbookmovie @jokermovie #JokerMovie #Joker #dcjoker #JokerFilmpic.twitter.com/oV4d7uZB5k', {'entities': []}), ('why so serious ? #JokerMovie pic.twitter.com/XxaDn7axZJ', {'entities': []}), ('JOKERS - Trailer - Reaction!! https://youtu.be/GlXyv42g6kg\\xa0 via @YouTube\\n\\n#JokerMovie \\n\\n#YouTube #YouTuber #SmallYouTubeArmy\\n#YoutubeCreator #smallyoutuber', {'entities': []}), ('I understand there is controversy with #JokerMovie. I also understand it won the Golden Lion in Venice. It is therefore an accomplished film. Amazing to witness the rather simplistic ways a good film can be sabotaged at the box office. Crazy times we are living in.', {'entities': [(224, 234, 'BOX OFFICE')]}), ('#JokerMovie Add it is #Jokerit another #clownstar  horror story or #shooting tales by some guilty criminal guys !', {'entities': []}), ('Strangely, after watching #JokerMovie, I’ve had a deep desire to revisit the EMPEROR JOKER storyline. Loved that stretch.', {'entities': [(55, 61, 'HYPE')]}), (\"So like I have question about the #JokerMovie but I don't want to give spoilers 🙁\", {'entities': []}), ('Movie Review: #JokerMovie An uncomfortable, unoriginal approach but with a phenomenal performance behind it. https://youtu.be/zLKV8lj_kL4\\xa0', {'entities': []}), (\"If Joaquin Phoenix doesn't get an Oscar for his portrayal of the Joker I'm throw hands with @TheAcademy #JokerMovie pic.twitter.com/LNIgdVPzKu\", {'entities': [(3, 18, 'TALENT')]}), ('I should secretly go see #jokermovie alone because I deserve it.', {'entities': []}), ('For beats(FREE) and mixing services come check out my store. NEW BEATS EVERY MONDAY\\n\\nhttp://MarcelDM.Beatstars.com\\xa0 \\n\\n#MusicProducer #NewMusic #IndieArtist #BeatStars #JokerMovie #ThursdayThoughts\\n #Instrumentals #TypeBeat #NationalBoyfriendDay #GrindSZN', {'entities': []}), (\"On my way to see #joker. Can't wait to see it.\\n\\nHave read the snowflakes sites (@voxdotcom & @DEADLINE 2 name two)  scare tactics to keep ppl away. \\n\\nIts almost as if sites like these want something bad to happen, at a joker screening.  \\n\\n #joker2019   #jokermovie #rottentomatos\", {'entities': []}), (\"Critics brigading RT with negative reviews because shooting didn't happen\\n\\n#Joker #jokermovie\", {'entities': [(35, 41, 'REVIEWS')]}), ('We’ve been waiting for this for a long time! We’re checking out @jokermovie and our full movie review will be up tomorrow night.  #Joker #joker2019 #JokerFilm #jokermovie #MovieReview 🤡pic.twitter.com/wDFg3lY4ei', {'entities': [(95, 101, 'REVIEWS')]}), ('Get your organic Shea Butter and African Black Soap \\n🌱🌱🌱🌱🌱\\n250g Shea Butter R200\\n120g African Black saop R100\\n\\nCombo special available too 😁\\n\\nShipping available.\\n#JokerMovie\\n#MeanGirlsDay \\n#KwaJoepic.twitter.com/R7ytuw0lbx', {'entities': []}), (\"Just seen the JOKER movie\\nThe movie was really twisted! But I understood & enjoyed it. If you're squemish  or easily offended then it's not a movie for you! I would definitely be willing to see it again! And even buy it when its released on DVD or Digital download! \\n#jokermovie\", {'entities': []}), ('Oh yeah #JokerMovie pic.twitter.com/qdjeGacEQx', {'entities': []}), ('Well here we go!! #jokermovie time!!', {'entities': []}), ('Here. We. Go. #joker2019 #jokermovie pic.twitter.com/L0d1RMjDzN', {'entities': []}), (\"I can't wait to see #JokerMovie tomorrow. I recently just got finished viewing all the trailers. Joker is going to be an awesome #moviepic.twitter.com/hkGibTHHJQ\", {'entities': [(121, 128, 'HYPE')]}), ('imo film of the year. #JokerMovie https://twitter.com/BatmanNewsCom/status/1179894583267741698\\xa0…', {'entities': []}), ('Easily the best film this year. Perhaps the best this decade. Still collecting myself but you need to go see the @jokermovie if you can. ⭐️⭐️⭐️⭐️⭐️ 💯\\n\\n#JokerFilm #JokerMovie #ToddPhillips #JoaquinPhoenixpic.twitter.com/lgW4h882pz', {'entities': [(188, 203, 'TALENT')]}), (\"And now here's the punchline... yes, I'm mostly referring to WTF is going on with #JokerMovie. People arguing who haven't even seen it? Counter-culturalist hipsters who just want to be heard, who need to be different, who need to feel 'important'?\", {'entities': []}), ('So yeah #Joker is a freaking amazing and also fucked up movie!!!Still got chills here!!!👏👏🎬 #JokerMovie pic.twitter.com/HGCZgcbNRy', {'entities': [(29, 36, 'HYPE')]}), ('#MeanGirlsDay #October3rd\\n#JokerMovie #NationalBoyfriendDay #Joker #ExNaMTV #Inktober #CryForMe #MeninasMalvadas Regina George #PanicDaypic.twitter.com/fDGGiMGO7O', {'entities': []})]\n"
     ]
    }
   ],
   "source": [
    "training = train.trainData(dfText, categories)\n",
    "print(training)"
   ]
  },
  {
   "cell_type": "markdown",
   "metadata": {},
   "source": [
    "# Creating new spaCy model"
   ]
  },
  {
   "cell_type": "code",
   "execution_count": 8,
   "metadata": {},
   "outputs": [],
   "source": [
    "\n",
    "# Create a blank 'en' model\n",
    "nlp = spacy.blank('en')\n",
    "\n",
    "# Create a new entity recognizer and add it to the pipeline\n",
    "ner = nlp.create_pipe('ner')\n",
    "nlp.add_pipe(ner)\n",
    "\n",
    "# Add the labels to the entity recognizer\n",
    "for category in categories.keys():\n",
    "    ner.add_label(category)\n"
   ]
  },
  {
   "cell_type": "markdown",
   "metadata": {},
   "source": [
    "# Training spaCy model"
   ]
  },
  {
   "cell_type": "code",
   "execution_count": 13,
   "metadata": {},
   "outputs": [
    {
     "name": "stdout",
     "output_type": "stream",
     "text": [
      "Starting iteration0\n",
      "{'ner': 17.788594183135228}\n",
      "Starting iteration1\n",
      "{'ner': 17.10076282525097}\n",
      "Starting iteration2\n",
      "{'ner': 13.572334574823463}\n",
      "Starting iteration3\n",
      "{'ner': 29.151873480620992}\n",
      "Starting iteration4\n",
      "{'ner': 7.203159916214756}\n",
      "Starting iteration5\n",
      "{'ner': 20.617659169680806}\n",
      "Starting iteration6\n",
      "{'ner': 18.60281050071481}\n",
      "Starting iteration7\n",
      "{'ner': 26.15234339415644}\n",
      "Starting iteration8\n",
      "{'ner': 13.929688162815273}\n",
      "Starting iteration9\n",
      "{'ner': 14.060932937200453}\n",
      "Starting iteration10\n",
      "{'ner': 6.762181635813507}\n",
      "Starting iteration11\n",
      "{'ner': 2.120291148396014}\n",
      "Starting iteration12\n",
      "{'ner': 5.497592325612643}\n",
      "Starting iteration13\n",
      "{'ner': 6.023142083105399}\n",
      "Starting iteration14\n",
      "{'ner': 5.915825262149584}\n",
      "Starting iteration15\n",
      "{'ner': 0.4790009731723835}\n",
      "Starting iteration16\n",
      "{'ner': 8.356150320642307}\n",
      "Starting iteration17\n",
      "{'ner': 4.260966975686276}\n",
      "Starting iteration18\n",
      "{'ner': 5.877302073159544}\n",
      "Starting iteration19\n",
      "{'ner': 4.294871653119064}\n"
     ]
    }
   ],
   "source": [
    "other_pipe = [pipe for pipe in nlp.pipe_names if pipe != 'ner']\n",
    "\n",
    "# Start the training\n",
    "nlp.begin_training()\n",
    "\n",
    "\n",
    "for int in range(20) :\n",
    "    print(\"Starting iteration\" + str(int))\n",
    "    random.shuffle(training)\n",
    "    losses = {}\n",
    "\n",
    "    for text, annotation in training:\n",
    "        nlp.update([text], [annotation], drop = 0.2, losses = losses)\n",
    "    print(losses)\n",
    "new_model = nlp"
   ]
  },
  {
   "cell_type": "code",
   "execution_count": 34,
   "metadata": {},
   "outputs": [],
   "source": [
    "#Save model\n",
    "new_model.to_disk('spacyModel')"
   ]
  },
  {
   "cell_type": "code",
   "execution_count": null,
   "metadata": {},
   "outputs": [],
   "source": [
    "#https://www.reddit.com/r/spacynlp/comments/518kbw/training_ner_model_from_scratch/\n",
    "\n",
    "#End the training\n",
    "#nlp.resume_training()"
   ]
  },
  {
   "cell_type": "markdown",
   "metadata": {},
   "source": [
    "# Updating an existing model"
   ]
  },
  {
   "cell_type": "code",
   "execution_count": null,
   "metadata": {},
   "outputs": [],
   "source": [
    "from spacy.lang.en import English\n",
    "from spacy.tokens import Span\n",
    "from spacy.matcher import PhraseMatcher\n",
    "\n",
    "PLOT = ['plot', 'frame', 'scene', 'scenes']\n",
    "TALENT = ['actor', 'actress', 'actors', 'talent', 'director', 'Joaquin Phoenix', '#JoaquinPhoenix', 'Robert De Niro', 'Zazie Beetz', 'Frances Conroy', 'Todd Philips']\n",
    "\n",
    "nlp = English()\n",
    "matcher = PhraseMatcher(nlp.vocab)\n",
    "matcher.add(\"PLOT\", None, *list(nlp.pipe(PLOT)))\n",
    "matcher.add(\"TALENT\", None, *list(nlp.pipe(TALENT)))\n",
    "\n",
    "\n",
    "def plot_component(doc):\n",
    "    # Create an entity Span with the label 'GPE' for all matches\n",
    "    matches = matcher(doc)\n",
    "    doc.ents = [Span(doc, start, end, label=\"PLOT\") for match_id, start, end in matches]\n",
    "    return doc\n",
    "\n",
    "def talent_component(doc):\n",
    "    # Create an entity Span with the label 'GPE' for all matches\n",
    "    matches = matcher(doc)\n",
    "    doc.ents = [Span(doc, start, end, label=\"PLOT\") for match_id, start, end in matches]\n",
    "    return doc\n",
    "\n",
    "\n",
    "# Add the component to the pipeline\n",
    "nlp.add_pipe(plot_component)\n",
    "nlp.add_pipe(talent)\n",
    "print(nlp.pipe_names)\n",
    "\n",
    "# Process the text and print the entity text, label and capital attributes\n",
    "doc = nlp(\"Bookings opened in Chennai for the movies in PVR cinemas\\n#JokerMovie \\n#WAR \\n#SyeRaaOnOct2nd \\nBook your tickets now @_PVRCinemas or @bookmyshow plot\")\n",
    "print([(ent.text, ent.label_) for ent in doc.ents])"
   ]
  }
 ],
 "metadata": {
  "kernelspec": {
   "display_name": "Python3.8",
   "language": "python",
   "name": "python3.8"
  },
  "language_info": {
   "codemirror_mode": {
    "name": "ipython",
    "version": 3
   },
   "file_extension": ".py",
   "mimetype": "text/x-python",
   "name": "python",
   "nbconvert_exporter": "python",
   "pygments_lexer": "ipython3",
   "version": "3.8.0"
  }
 },
 "nbformat": 4,
 "nbformat_minor": 4
}
